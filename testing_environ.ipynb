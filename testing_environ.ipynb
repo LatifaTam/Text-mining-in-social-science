{
 "cells": [
  {
   "cell_type": "markdown",
   "metadata": {},
   "source": [
    "This notebook aims on cross-compare and double check accuracy and precision of topic modeling label. </p>\n",
    "Main steps in this notebook:</p>\n",
    "1) pull up representative speeches labled by each model about environment;</p>\n",
    "2) cross-check the results from each model: do they share a lot common? Do all models label the same group of speech as environment-relevant? </p>\n",
    "3) Mannual check precision and accuracy for randomly selected speeches.</p>\n",
    "4) Explore collocated-words in interested speeches.</p>\n",
    "5) merge speeches with speech information (like speakers information) and output environment speeches and data for peer lab member to further investigate"
   ]
  },
  {
   "cell_type": "code",
   "execution_count": null,
   "metadata": {},
   "outputs": [],
   "source": [
    "# code to find topic with Standford keywords\n",
    "# environment: 3/ 520\n",
    "# sd 406: https://www.sanders.senate.gov/press-releases/sanders-boxer-to-introduce-major-climate-change-legislation-2/\n",
    "envir_topic_bert = []\n",
    "for topicIndex in topics:\n",
    "    for pair in topics[topicIndex]:\n",
    "        for i in range(len(pair)):\n",
    "            for word in environment_keyWord:\n",
    "                if word == pair[i]:\n",
    "                    envir_topic_bert.append(topicIndex)\n",
    "                    print(topicIndex)  # each key words\n",
    "            "
   ]
  },
  {
   "cell_type": "code",
   "execution_count": 29,
   "metadata": {},
   "outputs": [],
   "source": [
    "import pandas as pd\n",
    "fullData = pd.read_csv('test50_labled.csv')\n",
    "bert_kw_List = [3,2761, 4476, 2343, 4294, 7408, 43,110,115,595,672,849,1311,2643,2805,2855,3184,3878,4148,4690,4821,4887,5892,6154,6159,6228,6532,6675,6820]\n",
    "lda_kw_List = [9]\n",
    "nmf_kw_List = [18,19,25]"
   ]
  },
  {
   "cell_type": "code",
   "execution_count": 18,
   "metadata": {},
   "outputs": [],
   "source": [
    "new_data = pd.read_csv('test50.csv')\n",
    "fullData = pd.merge(fullData, new_data[['speech_id', 'date']], on='speech_id', how='left')\n",
    "fullData = pd.merge(fullData, new_data[['speech_id', 'Year']], on='speech_id', how='left')"
   ]
  },
  {
   "cell_type": "code",
   "execution_count": 19,
   "metadata": {},
   "outputs": [
    {
     "name": "stderr",
     "output_type": "stream",
     "text": [
      "[nltk_data] Downloading package wordnet to\n",
      "[nltk_data]     C:\\Users\\tanay\\AppData\\Roaming\\nltk_data...\n",
      "[nltk_data]   Package wordnet is already up-to-date!\n"
     ]
    }
   ],
   "source": [
    "import numpy as np\n",
    "import csv\n",
    "import glob\n",
    "import nltk\n",
    "from nltk.corpus import wordnet as wn\n",
    "\n",
    "import nltk\n",
    "nltk.download('wordnet')\n",
    "\n",
    "from collections import Counter\n",
    "fullDataBack =fullData\n",
    "fullData['speech'] = fullData['speech'].str.split().dropna()"
   ]
  },
  {
   "cell_type": "code",
   "execution_count": 22,
   "metadata": {},
   "outputs": [],
   "source": [
    "def lemmatize_words(word_list):\n",
    "    if isinstance(word_list, list):\n",
    "        return [wn.morphy(word) for word in word_list]\n",
    "    else:\n",
    "        return []\n",
    "\n",
    "# Apply the lemmatization function to the 'speech' column\n",
    "fullData['lemmas'] = fullData['speech'].apply(lemmatize_words)"
   ]
  },
  {
   "cell_type": "code",
   "execution_count": 35,
   "metadata": {},
   "outputs": [],
   "source": [
    "def convert_to_list(s):\n",
    "    try:\n",
    "        # Try to evaluate the string as a Python literal\n",
    "        return ast.literal_eval(s)\n",
    "    except (ValueError, SyntaxError):\n",
    "        # If there's an error, return an empty list\n",
    "        return []\n",
    "\n",
    "# Apply the conversion function to the 'speech' column\n",
    "fullData['speech'] = fullData['speech'].apply(convert_to_list)\n",
    "\n",
    "# Filter out rows containing the word 'energy'\n",
    "filtered_data = fullData[fullData['speech'].apply(lambda x: 'oil' in x)]\n"
   ]
  },
  {
   "cell_type": "code",
   "execution_count": 36,
   "metadata": {},
   "outputs": [
    {
     "data": {
      "text/html": [
       "<div>\n",
       "<style scoped>\n",
       "    .dataframe tbody tr th:only-of-type {\n",
       "        vertical-align: middle;\n",
       "    }\n",
       "\n",
       "    .dataframe tbody tr th {\n",
       "        vertical-align: top;\n",
       "    }\n",
       "\n",
       "    .dataframe thead th {\n",
       "        text-align: right;\n",
       "    }\n",
       "</style>\n",
       "<table border=\"1\" class=\"dataframe\">\n",
       "  <thead>\n",
       "    <tr style=\"text-align: right;\">\n",
       "      <th></th>\n",
       "    </tr>\n",
       "  </thead>\n",
       "  <tbody>\n",
       "  </tbody>\n",
       "</table>\n",
       "</div>"
      ],
      "text/plain": [
       "Empty DataFrame\n",
       "Columns: []\n",
       "Index: []"
      ]
     },
     "execution_count": 36,
     "metadata": {},
     "output_type": "execute_result"
    }
   ],
   "source": [
    "filtered_data"
   ]
  },
  {
   "cell_type": "code",
   "execution_count": 33,
   "metadata": {},
   "outputs": [
    {
     "data": {
      "text/plain": [
       "{}"
      ]
     },
     "execution_count": 33,
     "metadata": {},
     "output_type": "execute_result"
    }
   ],
   "source": [
    "#fullData = fullData[fullData[\"speech\"].contains('energy')]\n",
    "#fullData['lemmas'] = [[wn.morphy(word) for word in row] for row in fullData['speech']]\n",
    "fullData=filtered_data\n",
    "fullData['lemmas'] = [[word for word in row if word is not None] for row in fullData['lemmas']] # for each word of each row in 'lemmas', keep anything that isn't 'None' type.\n",
    "#fullData['lemmas'] = [' '.join(row) for row in fullData['lemmas']] # glue the individual list of lemmas back into one string per speech\n",
    "\n",
    "top_words_per_year_lemmatized = {}\n",
    "\n",
    "for year in fullData['Year'].unique():\n",
    "    yearly_lemmas = []\n",
    "    for lemmas in fullData[fullData['Year'] == year]['lemmas']:\n",
    "        yearly_lemmas.extend(lemmas)\n",
    "\n",
    "    # Calculate frequency\n",
    "    lemma_counts = Counter(yearly_lemmas)\n",
    "\n",
    "    # Get the 10 most common lemmas\n",
    "    top_lemmas = lemma_counts.most_common(10)\n",
    "    top_words_per_year_lemmatized[year] = top_lemmas\n",
    "\n",
    "top_words_per_year_lemmatized"
   ]
  },
  {
   "cell_type": "code",
   "execution_count": null,
   "metadata": {},
   "outputs": [],
   "source": [
    "fullData['speech_id'].describe()\n",
    "#1060000000 to 1140000000\n",
    "filtered_data = fullData[(fullData['speech_id'] >= 1060000000) & (fullData['speech_id'] < 1070000000)]['speech']\n"
   ]
  },
  {
   "cell_type": "code",
   "execution_count": null,
   "metadata": {},
   "outputs": [],
   "source": [
    "year1_context_count = fullData[\"speech\"].str.split().explode().dropna().value_counts()\n",
    "year1_context_count[:20]"
   ]
  },
  {
   "cell_type": "code",
   "execution_count": null,
   "metadata": {},
   "outputs": [],
   "source": [
    "pd.set_option('display.max_colwidth', None)\n",
    "fullData[fullData['Topic']==2343]['speech'].head(3)"
   ]
  },
  {
   "cell_type": "code",
   "execution_count": null,
   "metadata": {},
   "outputs": [],
   "source": [
    "# print out each topic keywords with an example\n",
    "pd.set_option('display.max_colwidth', None)\n",
    "for num in bert_kw_List:\n",
    "    print(num)\n",
    "    print(fullData[fullData['Topic']==num]['Representation'].head(1))\n",
    "    print(fullData[fullData['Topic']==num]['speech'].head(1))"
   ]
  },
  {
   "cell_type": "code",
   "execution_count": null,
   "metadata": {},
   "outputs": [],
   "source": [
    "bert_sp_List = set()\n",
    "lda_sp_List = set()\n",
    "nmf_sp_List = set()\n",
    "check_id = 0\n",
    "\n",
    "for i in range(len(fullData)):\n",
    "    check_id=check_id+1\n",
    "    id=fullData['speech_id'][i]\n",
    "    for bkw in bert_kw_List:\n",
    "        if fullData['Topic'][i] == bkw:\n",
    "            bert_sp_List.add(id)\n",
    "    for lkw in lda_kw_List:\n",
    "        if fullData['Most_Dominant_Topic_LDA'][i] == lkw:\n",
    "            lda_sp_List.add(id)\n",
    "    for nkw in nmf_kw_List:\n",
    "        if fullData['Most_Dominant_Topic_NMF'][i] == nkw:\n",
    "            nmf_sp_List.add(id)\n",
    "\n",
    "#bert_sp_List = set(bert_sp_List)\n",
    "#lda_sp_List = set(lda_sp_List)\n",
    "#nmf_sp_List = set(nmf_sp_List)"
   ]
  },
  {
   "cell_type": "markdown",
   "metadata": {},
   "source": [
    "collocated words for top keywords\n",
    "before and after 2008 and 2001\n",
    "    some readings\n",
    "check out the pattern/ trend for minor topic ( without topic 3)\n",
    "sentimental analysis\n",
    "    tidytext\n"
   ]
  },
  {
   "cell_type": "code",
   "execution_count": 2,
   "metadata": {},
   "outputs": [
    {
     "name": "stdout",
     "output_type": "stream",
     "text": [
      "7810\n",
      "yes\n",
      "72\n"
     ]
    }
   ],
   "source": [
    "bert_kw_List = [3,2761, 4476, 2343, 7408, 43,115,595,672,1311,2643,2805,2855,3184,4148,4690,4821,4887,5892,6154,6159,6532,6675,6820]\n",
    "#df = pd.read_csv('gpt4_5000_result.csv')\n",
    "\n",
    "\n",
    "bert_sp_List = set()\n",
    "check_id = 0\n",
    "\n",
    "for i in range(len(fullData)):\n",
    "    id=fullData['speech_id'][i]\n",
    "    for bkw in bert_kw_List:\n",
    "        if fullData['Topic'][i] == bkw:\n",
    "            check_id=check_id+1\n",
    "            bert_sp_List.add(id)\n",
    "\n",
    "#bert_sp_List = set(bert_sp_List)\n",
    "print(check_id)\n",
    "common_speech_ids = set(df['speech_id']).intersection(bert_sp_List)\n",
    "print(\"yes\")\n",
    "print(len(common_speech_ids))\n",
    "\n",
    "\n",
    "# Convert set to a Pandas DataFrame\n",
    "#df = pd.DataFrame({'set_column': [bert_sp_List]})\n",
    "\n",
    "# Specify the CSV file path\n",
    "#csv_file_path = 'random50EnvironmentSpeechid.csv'\n",
    "\n",
    "# Write to CSV file\n",
    "#df.to_csv(csv_file_path, index=False)\n",
    "\n"
   ]
  },
  {
   "cell_type": "code",
   "execution_count": 19,
   "metadata": {},
   "outputs": [],
   "source": [
    "# save whatever into pickle\n",
    "pickle_file_path = 'bert_environ.pkl'\n",
    "\n",
    "# Open the pickle file for writing in binary mode ('wb')\n",
    "with open(pickle_file_path, 'wb') as file:\n",
    "    # Dump the set into the pickle file\n",
    "    pickle.dump(common_speech_ids, file)"
   ]
  },
  {
   "cell_type": "code",
   "execution_count": 3,
   "metadata": {},
   "outputs": [],
   "source": [
    "# read Louis pickle and take out mannual annotated \"yes\"\n",
    "import pickle\n",
    "\n",
    "# Specify the path to your pickle file\n",
    "pickle_file_path = 'manualAnnotation.pkl'\n",
    "\n",
    "# Open the pickle file for reading in binary mode ('rb')\n",
    "with open(pickle_file_path, 'rb') as file:\n",
    "    # Load the data from the pickle file\n",
    "    result35 = pickle.load(file)\n",
    "# mannual annotate\n",
    "keys_with_y_value = {key for key, value in result35.items() if value == 'y'}"
   ]
  },
  {
   "cell_type": "code",
   "execution_count": 18,
   "metadata": {},
   "outputs": [
    {
     "name": "stdout",
     "output_type": "stream",
     "text": [
      "22\n"
     ]
    }
   ],
   "source": [
    "# compare set of \"yes\" from various models\n",
    "#87 vs 72: 22 in common\n",
    "common_speech_ids_bert_35 = keys_with_y_value.intersection(common_speech_ids)\n",
    "print(len(common_speech_ids_bert_35))"
   ]
  },
  {
   "cell_type": "code",
   "execution_count": 15,
   "metadata": {},
   "outputs": [],
   "source": [
    "# Convert set to Pandas DataFrame\n",
    "import random\n",
    "sampled_items = random.sample(sorted(bert_sp_List), 100)\n",
    "\n",
    "df = pd.DataFrame({'set_column': [sampled_items]})\n",
    "\n",
    "# Explode the set into separate rows\n",
    "df_exploded = df['set_column'].explode().reset_index(drop=True).to_frame()\n",
    "\n",
    "# Specify the CSV file path\n",
    "csv_file_path = 'random50EnvironmentSpeechid_100.csv'\n",
    "\n",
    "# Write to CSV file\n",
    "df_exploded.to_csv(csv_file_path, index=False, header=['set_column'])"
   ]
  },
  {
   "cell_type": "code",
   "execution_count": 25,
   "metadata": {},
   "outputs": [],
   "source": [
    "# cross-check environment topic from bert\n",
    "fullData = pd.read_csv('test50_labled.csv')\n",
    "bert_kw_List = [3,2761, 4476, 2343, 4294, 7408, 43,110,115,595,672,849,1311,2643,2805,2855,3184,3878,4148,4690,4821,4887,5892,6154,6159,6228,6532,6675,6820]\n",
    "\n",
    "filtered_data = fullData[\n",
    "    fullData.apply(lambda row: row['Representative_document'] and row['Topic'] in bert_kw_List, axis=1)\n",
    "]"
   ]
  },
  {
   "cell_type": "code",
   "execution_count": 33,
   "metadata": {},
   "outputs": [],
   "source": [
    "# open json for bertopic keyword and topic dictionary\n",
    "import json\n",
    "# Specify the path to your JSON file\n",
    "json_file_path = 'Bertopic_50_dic.json'\n",
    "\n",
    "# Open the JSON file for reading\n",
    "with open(json_file_path, 'r') as file:\n",
    "    # Load the JSON data from the file\n",
    "    bertKeyWordic = json.load(file)\n"
   ]
  },
  {
   "cell_type": "markdown",
   "metadata": {},
   "source": [
    "#### Note about Bertopic result\n",
    "bert_kw_List = [3,2761, 4476, 2343, 7408, 43,115,595,672,1311,2643,2805,2855,3184,4148,4690,4821,4887,5892,6154,6159,6532,6675,6820]\n",
    "\n",
    "previously wrong from standford keyword: 110( the word \"object\"), 4294('na'), 6228('include location Penn'), 849( include California), 3878(texas)"
   ]
  },
  {
   "cell_type": "code",
   "execution_count": null,
   "metadata": {},
   "outputs": [],
   "source": [
    "bert_kw_List = [3,2761, 4476, 2343, 7408, 43,115,595,672,1311,2643,2805,2855,3184,4148,4690,4821,4887,5892,6154,6159,6532,6675,6820]\n",
    "filtered_data_only_correct_en = fullData[\n",
    "    fullData.apply(lambda row: row['Topic'] in bert_kw_List, axis=1)\n",
    "]\n",
    "filtered_data_only_correct_en.to_csv(\"Environment\")"
   ]
  },
  {
   "cell_type": "code",
   "execution_count": null,
   "metadata": {},
   "outputs": [],
   "source": [
    "[['speech','chamber','date','speaker','first_name','last_name','state','gender','char_count','word_count']]"
   ]
  },
  {
   "cell_type": "code",
   "execution_count": null,
   "metadata": {},
   "outputs": [],
   "source": [
    "fullData"
   ]
  },
  {
   "cell_type": "code",
   "execution_count": 43,
   "metadata": {},
   "outputs": [],
   "source": [
    "# all demographic information for speeches\n",
    "# with full demo data\n",
    "fullData = pd.read_csv('fullData2000.csv')\n",
    "# join topic and keywords\n",
    "lables = pd.read_csv('test50_labled.csv')\n",
    "label_fullSpeech_demo = pd.merge(lables[['Topic', 'Representation','Representative_document','speech_id']], \n",
    "                                 fullData[['speech_id','speech','chamber','date','speaker','first_name','last_name','state','gender','char_count','word_count']],\n",
    "                                 on='speech_id', how='left')\n",
    "\n",
    "# filter and only keep environment relevant topics\n",
    "bert_kw_List = [3,2761, 4476, 2343, 7408, 43,115,595,672,1311,2643,2805,2855,3184,4148,4690,4821,4887,5892,6154,6159,6532,6675,6820]\n",
    "filtered_data_demo = label_fullSpeech_demo[label_fullSpeech_demo.apply(lambda row: row['Topic'] in bert_kw_List, axis=1)]\n",
    "#save to csv\n",
    "filtered_data_demo.to_csv(\"EnvironmentSpeech_WithInfo.csv\")"
   ]
  },
  {
   "cell_type": "code",
   "execution_count": null,
   "metadata": {},
   "outputs": [],
   "source": [
    "pd.set_option('display.max_colwidth', None)\n",
    "\n",
    "#import pandas as pd\n",
    "#filtered_data_demo=lables = pd.read_csv('subsample.csv')\n",
    "filtered_data_demo[filtered_data_demo.apply(lambda row: row['Topic'] == 3, axis =1)]['Representation']"
   ]
  },
  {
   "cell_type": "markdown",
   "metadata": {},
   "source": [
    "#### Co-located\n",
    "with specific words:</p>\n",
    "https://stackoverflow.com/questions/21165702/nltk-collocations-for-specific-words\n",
    "\n",
    "fullData = pd.read_csv('fullData2000.csv')\n"
   ]
  },
  {
   "cell_type": "code",
   "execution_count": 1,
   "metadata": {},
   "outputs": [],
   "source": [
    "import pandas as pd\n",
    "\n",
    "from nltk import word_tokenize, bigrams, trigrams\n",
    "from nltk.corpus import stopwords\n",
    "from collections import Counter\n",
    "#nltk.download('punkt')\n",
    "\n",
    "fullData = pd.read_csv('EnvironmentSpeech_WithInfo.csv')\n",
    "topicList = sorted(fullData['Topic'].unique())\n",
    "#result_df = pd.DataFrame()"
   ]
  },
  {
   "cell_type": "code",
   "execution_count": 18,
   "metadata": {},
   "outputs": [
    {
     "data": {
      "text/html": [
       "<div>\n",
       "<style scoped>\n",
       "    .dataframe tbody tr th:only-of-type {\n",
       "        vertical-align: middle;\n",
       "    }\n",
       "\n",
       "    .dataframe tbody tr th {\n",
       "        vertical-align: top;\n",
       "    }\n",
       "\n",
       "    .dataframe thead th {\n",
       "        text-align: right;\n",
       "    }\n",
       "</style>\n",
       "<table border=\"1\" class=\"dataframe\">\n",
       "  <thead>\n",
       "    <tr style=\"text-align: right;\">\n",
       "      <th></th>\n",
       "      <th>Unnamed: 0</th>\n",
       "      <th>Topic</th>\n",
       "      <th>Representation</th>\n",
       "      <th>Representative_document</th>\n",
       "      <th>speech_id</th>\n",
       "      <th>speech</th>\n",
       "      <th>chamber</th>\n",
       "      <th>date</th>\n",
       "      <th>speaker</th>\n",
       "      <th>first_name</th>\n",
       "      <th>last_name</th>\n",
       "      <th>state</th>\n",
       "      <th>gender</th>\n",
       "      <th>char_count</th>\n",
       "      <th>word_count</th>\n",
       "      <th>tokens</th>\n",
       "      <th>filtered_tokens</th>\n",
       "      <th>bigrams</th>\n",
       "      <th>trigrams</th>\n",
       "    </tr>\n",
       "  </thead>\n",
       "  <tbody>\n",
       "    <tr>\n",
       "      <th>0</th>\n",
       "      <td>184</td>\n",
       "      <td>115</td>\n",
       "      <td>['forest', 'forests', 'timber', 'fires', 'tree...</td>\n",
       "      <td>False</td>\n",
       "      <td>1060076829</td>\n",
       "      <td>Mr. President. this amendment would strike sec...</td>\n",
       "      <td>S</td>\n",
       "      <td>1999-09-09</td>\n",
       "      <td>Mr. ROBB</td>\n",
       "      <td>Unknown</td>\n",
       "      <td>ROBB</td>\n",
       "      <td>Unknown</td>\n",
       "      <td>M</td>\n",
       "      <td>1355</td>\n",
       "      <td>218</td>\n",
       "      <td>[Mr., President, ., this, amendment, would, st...</td>\n",
       "      <td>[amendment, strike, section, legislative, ride...</td>\n",
       "      <td>[(amendment, strike), (strike, section), (sect...</td>\n",
       "      <td>[(amendment, strike, section), (strike, sectio...</td>\n",
       "    </tr>\n",
       "    <tr>\n",
       "      <th>1</th>\n",
       "      <td>302</td>\n",
       "      <td>2343</td>\n",
       "      <td>['earth', 'gaylord', 'nelson', 'environmental'...</td>\n",
       "      <td>False</td>\n",
       "      <td>1060057330</td>\n",
       "      <td>I thank the gentleman for yielding. It just st...</td>\n",
       "      <td>H</td>\n",
       "      <td>1999-07-13</td>\n",
       "      <td>Mr. REGULA</td>\n",
       "      <td>Unknown</td>\n",
       "      <td>REGULA</td>\n",
       "      <td>Unknown</td>\n",
       "      <td>M</td>\n",
       "      <td>322</td>\n",
       "      <td>57</td>\n",
       "      <td>[I, thank, the, gentleman, for, yielding, ., I...</td>\n",
       "      <td>[yielding, struck, visited, mount, helens, las...</td>\n",
       "      <td>[(yielding, struck), (struck, visited), (visit...</td>\n",
       "      <td>[(yielding, struck, visited), (struck, visited...</td>\n",
       "    </tr>\n",
       "    <tr>\n",
       "      <th>2</th>\n",
       "      <td>616</td>\n",
       "      <td>43</td>\n",
       "      <td>['wilderness', 'park', 'lands', 'monument', 'l...</td>\n",
       "      <td>False</td>\n",
       "      <td>1060007645</td>\n",
       "      <td>Mr. Speaker. today I come before the House of ...</td>\n",
       "      <td>E</td>\n",
       "      <td>1999-03-02</td>\n",
       "      <td>Ms. DUNN</td>\n",
       "      <td>Unknown</td>\n",
       "      <td>DUNN</td>\n",
       "      <td>Unknown</td>\n",
       "      <td>F</td>\n",
       "      <td>1246</td>\n",
       "      <td>214</td>\n",
       "      <td>[Mr., Speaker, ., today, I, come, before, the,...</td>\n",
       "      <td>[house, representatives, wish, ahappy, birthda...</td>\n",
       "      <td>[(house, representatives), (representatives, w...</td>\n",
       "      <td>[(house, representatives, wish), (representati...</td>\n",
       "    </tr>\n",
       "    <tr>\n",
       "      <th>3</th>\n",
       "      <td>649</td>\n",
       "      <td>3</td>\n",
       "      <td>['oil', 'gas', 'energy', 'drilling', 'gasoline...</td>\n",
       "      <td>False</td>\n",
       "      <td>1060017006</td>\n",
       "      <td>Mr. President. we are ten years older. but are...</td>\n",
       "      <td>S</td>\n",
       "      <td>1999-03-24</td>\n",
       "      <td>Mr. MURKOWSKI</td>\n",
       "      <td>Unknown</td>\n",
       "      <td>MURKOWSKI</td>\n",
       "      <td>Unknown</td>\n",
       "      <td>M</td>\n",
       "      <td>7558</td>\n",
       "      <td>1271</td>\n",
       "      <td>[Mr., President, ., we, are, ten, years, older...</td>\n",
       "      <td>[ten, years, older, ten, years, wiser, since, ...</td>\n",
       "      <td>[(ten, years), (years, older), (older, ten), (...</td>\n",
       "      <td>[(ten, years, older), (years, older, ten), (ol...</td>\n",
       "    </tr>\n",
       "    <tr>\n",
       "      <th>4</th>\n",
       "      <td>666</td>\n",
       "      <td>672</td>\n",
       "      <td>['river', 'dams', 'dam', 'missouri', 'downstre...</td>\n",
       "      <td>False</td>\n",
       "      <td>1060025320</td>\n",
       "      <td>cochair the 16 member upper Mississippi River ...</td>\n",
       "      <td>H</td>\n",
       "      <td>1999-04-29</td>\n",
       "      <td>Mr. LEACH</td>\n",
       "      <td>Unknown</td>\n",
       "      <td>LEACH</td>\n",
       "      <td>Unknown</td>\n",
       "      <td>M</td>\n",
       "      <td>1304</td>\n",
       "      <td>207</td>\n",
       "      <td>[cochair, the, 16, member, upper, Mississippi,...</td>\n",
       "      <td>[cochair, member, upper, mississippi, river, c...</td>\n",
       "      <td>[(cochair, member), (member, upper), (upper, m...</td>\n",
       "      <td>[(cochair, member, upper), (member, upper, mis...</td>\n",
       "    </tr>\n",
       "    <tr>\n",
       "      <th>...</th>\n",
       "      <td>...</td>\n",
       "      <td>...</td>\n",
       "      <td>...</td>\n",
       "      <td>...</td>\n",
       "      <td>...</td>\n",
       "      <td>...</td>\n",
       "      <td>...</td>\n",
       "      <td>...</td>\n",
       "      <td>...</td>\n",
       "      <td>...</td>\n",
       "      <td>...</td>\n",
       "      <td>...</td>\n",
       "      <td>...</td>\n",
       "      <td>...</td>\n",
       "      <td>...</td>\n",
       "      <td>...</td>\n",
       "      <td>...</td>\n",
       "      <td>...</td>\n",
       "      <td>...</td>\n",
       "    </tr>\n",
       "    <tr>\n",
       "      <th>7080</th>\n",
       "      <td>763203</td>\n",
       "      <td>3</td>\n",
       "      <td>['oil', 'gas', 'energy', 'drilling', 'gasoline...</td>\n",
       "      <td>False</td>\n",
       "      <td>1140086554</td>\n",
       "      <td>for his leadership on this and for coming to j...</td>\n",
       "      <td>H</td>\n",
       "      <td>2016-04-19</td>\n",
       "      <td>Mr. KILMER</td>\n",
       "      <td>Unknown</td>\n",
       "      <td>KILMER</td>\n",
       "      <td>Unknown</td>\n",
       "      <td>M</td>\n",
       "      <td>3340</td>\n",
       "      <td>535</td>\n",
       "      <td>[for, his, leadership, on, this, and, for, com...</td>\n",
       "      <td>[leadership, coming, join, us, speaking, clima...</td>\n",
       "      <td>[(leadership, coming), (coming, join), (join, ...</td>\n",
       "      <td>[(leadership, coming, join), (coming, join, us...</td>\n",
       "    </tr>\n",
       "    <tr>\n",
       "      <th>7081</th>\n",
       "      <td>763831</td>\n",
       "      <td>43</td>\n",
       "      <td>['wilderness', 'park', 'lands', 'monument', 'l...</td>\n",
       "      <td>False</td>\n",
       "      <td>1140102037</td>\n",
       "      <td>Mr. Speaker. I rise today to honor Mr. Kenneth...</td>\n",
       "      <td>E</td>\n",
       "      <td>2016-06-16</td>\n",
       "      <td>Mr. THOMPSON of California</td>\n",
       "      <td>Unknown</td>\n",
       "      <td>THOMPSON</td>\n",
       "      <td>California</td>\n",
       "      <td>M</td>\n",
       "      <td>2335</td>\n",
       "      <td>363</td>\n",
       "      <td>[Mr., Speaker, ., I, rise, today, to, honor, M...</td>\n",
       "      <td>[rise, honor, kenneth, hofmann, owner, rancho,...</td>\n",
       "      <td>[(rise, honor), (honor, kenneth), (kenneth, ho...</td>\n",
       "      <td>[(rise, honor, kenneth), (honor, kenneth, hofm...</td>\n",
       "    </tr>\n",
       "    <tr>\n",
       "      <th>7082</th>\n",
       "      <td>763834</td>\n",
       "      <td>6675</td>\n",
       "      <td>['tree', 'arbor', 'fresno', 'trees', 'usa', 'r...</td>\n",
       "      <td>True</td>\n",
       "      <td>1140104694</td>\n",
       "      <td>Mr. Speaker. I rise today to recognize the Cit...</td>\n",
       "      <td>E</td>\n",
       "      <td>2016-07-05</td>\n",
       "      <td>Mr. YOUNG of Iowa</td>\n",
       "      <td>Unknown</td>\n",
       "      <td>YOUNG</td>\n",
       "      <td>Iowa</td>\n",
       "      <td>M</td>\n",
       "      <td>1327</td>\n",
       "      <td>210</td>\n",
       "      <td>[Mr., Speaker, ., I, rise, today, to, recogniz...</td>\n",
       "      <td>[rise, recognize, city, west, des, moines, iow...</td>\n",
       "      <td>[(rise, recognize), (recognize, city), (city, ...</td>\n",
       "      <td>[(rise, recognize, city), (recognize, city, we...</td>\n",
       "    </tr>\n",
       "    <tr>\n",
       "      <th>7083</th>\n",
       "      <td>763963</td>\n",
       "      <td>3</td>\n",
       "      <td>['oil', 'gas', 'energy', 'drilling', 'gasoline...</td>\n",
       "      <td>False</td>\n",
       "      <td>1140085590</td>\n",
       "      <td>Mr. President. I agree with the Republican lea...</td>\n",
       "      <td>S</td>\n",
       "      <td>2016-04-14</td>\n",
       "      <td>Mr. REID</td>\n",
       "      <td>Unknown</td>\n",
       "      <td>REID</td>\n",
       "      <td>Unknown</td>\n",
       "      <td>M</td>\n",
       "      <td>1728</td>\n",
       "      <td>341</td>\n",
       "      <td>[Mr., President, ., I, agree, with, the, Repub...</td>\n",
       "      <td>[agree, republican, leader, energy, bill, good...</td>\n",
       "      <td>[(agree, republican), (republican, leader), (l...</td>\n",
       "      <td>[(agree, republican, leader), (republican, lea...</td>\n",
       "    </tr>\n",
       "    <tr>\n",
       "      <th>7084</th>\n",
       "      <td>764040</td>\n",
       "      <td>3</td>\n",
       "      <td>['oil', 'gas', 'energy', 'drilling', 'gasoline...</td>\n",
       "      <td>False</td>\n",
       "      <td>1140108412</td>\n",
       "      <td>Mr. President. in just a matter of minutes thi...</td>\n",
       "      <td>S</td>\n",
       "      <td>2016-07-12</td>\n",
       "      <td>Ms. MURKOWSKI</td>\n",
       "      <td>Unknown</td>\n",
       "      <td>MURKOWSKI</td>\n",
       "      <td>Unknown</td>\n",
       "      <td>F</td>\n",
       "      <td>7742</td>\n",
       "      <td>1390</td>\n",
       "      <td>[Mr., President, ., in, just, a, matter, of, m...</td>\n",
       "      <td>[matter, minutes, afternoon, proceed, motion, ...</td>\n",
       "      <td>[(matter, minutes), (minutes, afternoon), (aft...</td>\n",
       "      <td>[(matter, minutes, afternoon), (minutes, after...</td>\n",
       "    </tr>\n",
       "  </tbody>\n",
       "</table>\n",
       "<p>7085 rows × 19 columns</p>\n",
       "</div>"
      ],
      "text/plain": [
       "      Unnamed: 0  Topic                                     Representation  \\\n",
       "0            184    115  ['forest', 'forests', 'timber', 'fires', 'tree...   \n",
       "1            302   2343  ['earth', 'gaylord', 'nelson', 'environmental'...   \n",
       "2            616     43  ['wilderness', 'park', 'lands', 'monument', 'l...   \n",
       "3            649      3  ['oil', 'gas', 'energy', 'drilling', 'gasoline...   \n",
       "4            666    672  ['river', 'dams', 'dam', 'missouri', 'downstre...   \n",
       "...          ...    ...                                                ...   \n",
       "7080      763203      3  ['oil', 'gas', 'energy', 'drilling', 'gasoline...   \n",
       "7081      763831     43  ['wilderness', 'park', 'lands', 'monument', 'l...   \n",
       "7082      763834   6675  ['tree', 'arbor', 'fresno', 'trees', 'usa', 'r...   \n",
       "7083      763963      3  ['oil', 'gas', 'energy', 'drilling', 'gasoline...   \n",
       "7084      764040      3  ['oil', 'gas', 'energy', 'drilling', 'gasoline...   \n",
       "\n",
       "      Representative_document   speech_id  \\\n",
       "0                       False  1060076829   \n",
       "1                       False  1060057330   \n",
       "2                       False  1060007645   \n",
       "3                       False  1060017006   \n",
       "4                       False  1060025320   \n",
       "...                       ...         ...   \n",
       "7080                    False  1140086554   \n",
       "7081                    False  1140102037   \n",
       "7082                     True  1140104694   \n",
       "7083                    False  1140085590   \n",
       "7084                    False  1140108412   \n",
       "\n",
       "                                                 speech chamber        date  \\\n",
       "0     Mr. President. this amendment would strike sec...       S  1999-09-09   \n",
       "1     I thank the gentleman for yielding. It just st...       H  1999-07-13   \n",
       "2     Mr. Speaker. today I come before the House of ...       E  1999-03-02   \n",
       "3     Mr. President. we are ten years older. but are...       S  1999-03-24   \n",
       "4     cochair the 16 member upper Mississippi River ...       H  1999-04-29   \n",
       "...                                                 ...     ...         ...   \n",
       "7080  for his leadership on this and for coming to j...       H  2016-04-19   \n",
       "7081  Mr. Speaker. I rise today to honor Mr. Kenneth...       E  2016-06-16   \n",
       "7082  Mr. Speaker. I rise today to recognize the Cit...       E  2016-07-05   \n",
       "7083  Mr. President. I agree with the Republican lea...       S  2016-04-14   \n",
       "7084  Mr. President. in just a matter of minutes thi...       S  2016-07-12   \n",
       "\n",
       "                         speaker first_name  last_name       state gender  \\\n",
       "0                       Mr. ROBB    Unknown       ROBB     Unknown      M   \n",
       "1                     Mr. REGULA    Unknown     REGULA     Unknown      M   \n",
       "2                       Ms. DUNN    Unknown       DUNN     Unknown      F   \n",
       "3                  Mr. MURKOWSKI    Unknown  MURKOWSKI     Unknown      M   \n",
       "4                      Mr. LEACH    Unknown      LEACH     Unknown      M   \n",
       "...                          ...        ...        ...         ...    ...   \n",
       "7080                  Mr. KILMER    Unknown     KILMER     Unknown      M   \n",
       "7081  Mr. THOMPSON of California    Unknown   THOMPSON  California      M   \n",
       "7082           Mr. YOUNG of Iowa    Unknown      YOUNG        Iowa      M   \n",
       "7083                    Mr. REID    Unknown       REID     Unknown      M   \n",
       "7084               Ms. MURKOWSKI    Unknown  MURKOWSKI     Unknown      F   \n",
       "\n",
       "      char_count  word_count  \\\n",
       "0           1355         218   \n",
       "1            322          57   \n",
       "2           1246         214   \n",
       "3           7558        1271   \n",
       "4           1304         207   \n",
       "...          ...         ...   \n",
       "7080        3340         535   \n",
       "7081        2335         363   \n",
       "7082        1327         210   \n",
       "7083        1728         341   \n",
       "7084        7742        1390   \n",
       "\n",
       "                                                 tokens  \\\n",
       "0     [Mr., President, ., this, amendment, would, st...   \n",
       "1     [I, thank, the, gentleman, for, yielding, ., I...   \n",
       "2     [Mr., Speaker, ., today, I, come, before, the,...   \n",
       "3     [Mr., President, ., we, are, ten, years, older...   \n",
       "4     [cochair, the, 16, member, upper, Mississippi,...   \n",
       "...                                                 ...   \n",
       "7080  [for, his, leadership, on, this, and, for, com...   \n",
       "7081  [Mr., Speaker, ., I, rise, today, to, honor, M...   \n",
       "7082  [Mr., Speaker, ., I, rise, today, to, recogniz...   \n",
       "7083  [Mr., President, ., I, agree, with, the, Repub...   \n",
       "7084  [Mr., President, ., in, just, a, matter, of, m...   \n",
       "\n",
       "                                        filtered_tokens  \\\n",
       "0     [amendment, strike, section, legislative, ride...   \n",
       "1     [yielding, struck, visited, mount, helens, las...   \n",
       "2     [house, representatives, wish, ahappy, birthda...   \n",
       "3     [ten, years, older, ten, years, wiser, since, ...   \n",
       "4     [cochair, member, upper, mississippi, river, c...   \n",
       "...                                                 ...   \n",
       "7080  [leadership, coming, join, us, speaking, clima...   \n",
       "7081  [rise, honor, kenneth, hofmann, owner, rancho,...   \n",
       "7082  [rise, recognize, city, west, des, moines, iow...   \n",
       "7083  [agree, republican, leader, energy, bill, good...   \n",
       "7084  [matter, minutes, afternoon, proceed, motion, ...   \n",
       "\n",
       "                                                bigrams  \\\n",
       "0     [(amendment, strike), (strike, section), (sect...   \n",
       "1     [(yielding, struck), (struck, visited), (visit...   \n",
       "2     [(house, representatives), (representatives, w...   \n",
       "3     [(ten, years), (years, older), (older, ten), (...   \n",
       "4     [(cochair, member), (member, upper), (upper, m...   \n",
       "...                                                 ...   \n",
       "7080  [(leadership, coming), (coming, join), (join, ...   \n",
       "7081  [(rise, honor), (honor, kenneth), (kenneth, ho...   \n",
       "7082  [(rise, recognize), (recognize, city), (city, ...   \n",
       "7083  [(agree, republican), (republican, leader), (l...   \n",
       "7084  [(matter, minutes), (minutes, afternoon), (aft...   \n",
       "\n",
       "                                               trigrams  \n",
       "0     [(amendment, strike, section), (strike, sectio...  \n",
       "1     [(yielding, struck, visited), (struck, visited...  \n",
       "2     [(house, representatives, wish), (representati...  \n",
       "3     [(ten, years, older), (years, older, ten), (ol...  \n",
       "4     [(cochair, member, upper), (member, upper, mis...  \n",
       "...                                                 ...  \n",
       "7080  [(leadership, coming, join), (coming, join, us...  \n",
       "7081  [(rise, honor, kenneth), (honor, kenneth, hofm...  \n",
       "7082  [(rise, recognize, city), (recognize, city, we...  \n",
       "7083  [(agree, republican, leader), (republican, lea...  \n",
       "7084  [(matter, minutes, afternoon), (minutes, after...  \n",
       "\n",
       "[7085 rows x 19 columns]"
      ]
     },
     "execution_count": 18,
     "metadata": {},
     "output_type": "execute_result"
    }
   ],
   "source": [
    "fullData"
   ]
  },
  {
   "cell_type": "code",
   "execution_count": 2,
   "metadata": {},
   "outputs": [
    {
     "data": {
      "text/plain": [
       "3    ['oil', 'gas', 'energy', 'drilling', 'gasoline', 'prices', 'renewable', 'drill', 'wind', 'barrels']\n",
       "Name: Representation, dtype: object"
      ]
     },
     "execution_count": 2,
     "metadata": {},
     "output_type": "execute_result"
    }
   ],
   "source": [
    "# Check keywords for each topics\n",
    "pd.set_option('display.max_colwidth', None)\n",
    "keywordList = fullData[fullData.apply(lambda row: row['Topic'] == topicList[0], axis =1)].head(1)['Representation']\n",
    "keywordList"
   ]
  },
  {
   "cell_type": "code",
   "execution_count": 3,
   "metadata": {},
   "outputs": [],
   "source": [
    "def colocated(target_word, fullData,result):\n",
    "    fullData['tokens'] = fullData['speech'].apply(word_tokenize)\n",
    "\n",
    "    # Remove stopwords\n",
    "    stop_words = set(stopwords.words('english'))\n",
    "    newStop=['president','object','another','point','get','must','made','two','hr','say','go','come','much','may','make','even','going','also','would','could','think','chair','mr','madam','dont','said','did','does','thank','ask','today','just','000','gentleman','speaker','floor']\n",
    "    for word in newStop:\n",
    "        stop_words.add(word)\n",
    "    fullData['filtered_tokens'] = fullData['tokens'].apply(lambda x: [word.lower() for word in x if word.isalpha() and word.lower() not in stop_words])\n",
    "\n",
    "    # Find bigrams and trigrams\n",
    "    fullData['bigrams'] = fullData['filtered_tokens'].apply(lambda x: list(bigrams(x)))\n",
    "    fullData['trigrams'] = fullData['filtered_tokens'].apply(lambda x: list(trigrams(x)))\n",
    "\n",
    "    # Flatten the list of bigrams and trigrams\n",
    "    all_bigrams = [item for sublist in fullData['bigrams'] for item in sublist]\n",
    "    all_trigrams = [item for sublist in fullData['trigrams'] for item in sublist]\n",
    "\n",
    "    # Count occurrences\n",
    "    bigram_counts = Counter(all_bigrams)\n",
    "    trigram_counts = Counter(all_trigrams)\n",
    "\n",
    "    # most common pairs overall\n",
    "    #co_occurring_bigrams = bigram_counts.most_common(15)\n",
    "    #co_occurring_trigrams = trigram_counts.most_common(15)\n",
    "\n",
    "    # Get the bigrams and trigrams that co-occur with the target word in FULL\n",
    "    co_occurring_bigrams = [bigram for bigram in bigram_counts if target_word in bigram][:10]\n",
    "    co_occurring_trigrams = [trigram for trigram in trigram_counts if target_word in trigram][:10]\n",
    "    \n",
    "    # Store the co-located words (excluding the target word) in lists\n",
    "    co_located_bigram_words = []\n",
    "    for bigram in co_occurring_bigrams:\n",
    "        co_located_bigram_words.extend([word for word in bigram if word != target_word])\n",
    "    \n",
    "    co_located_trigram_words = []\n",
    "    for trigram in co_occurring_trigrams:\n",
    "        co_located_trigram_words.extend([word for word in trigram if word != target_word])\n",
    "\n",
    "    # Print the stored lists\n",
    "    print(\"Co-located Bigram Words without '{}':\".format(target_word), co_located_bigram_words)\n",
    "    #print(\"Co-located Trigram Words without '{}':\".format(target_word), co_occurring_trigrams)\n",
    "  \n",
    "    \n",
    "    #result_df[target_word] = co_located_bigram_words\n"
   ]
  },
  {
   "cell_type": "code",
   "execution_count": 4,
   "metadata": {},
   "outputs": [
    {
     "name": "stdout",
     "output_type": "stream",
     "text": [
      "[('produce', 'heat', 'energy'), ('heat', 'energy', 'electrical'), ('mechanical', 'energy', 'heat'), ('energy', 'heat', 'energy'), ('heat', 'energy', 'led'), ('heat', 'pumps', 'energy'), ('energy', 'resourcesthe', 'heat'), ('turned', 'heat', 'energy'), ('heat', 'energy', 'largely'), ('unusable', 'heat', 'energy'), ('heat', 'energy', 'eventually'), ('unless', 'heat', 'energy'), ('heat', 'energy', 'smell'), ('geothermal', 'energy', 'heat'), ('heat', 'energy', 'within'), ('energy', 'assistance', 'heat'), ('energy', 'people', 'heat'), ('energy', 'goes', 'heat'), ('affordable', 'energy', 'heat'), ('energy', 'heat', 'homes'), ('lot', 'energy', 'heat'), ('energy', 'heat', 'people'), ('live', 'heat', 'energy'), ('heat', 'energy', 'comes'), ('country', 'energy', 'heat'), ('energy', 'heat', 'business'), ('heat', 'business', 'energy'), ('sure', 'energy', 'heat'), ('form', 'energy', 'heat'), ('energy', 'heat', 'gets'), ('heat', 'homes', 'energy'), ('energy', 'used', 'heat'), ('energy', 'generate', 'heat'), ('america', 'energy', 'heat'), ('energy', 'resources', 'heat'), ('selfreliant', 'energy', 'heat'), ('energy', 'technologygeothermal', 'heat'), ('heat', 'percent', 'energy'), ('energy', 'combined', 'heat')]\n"
     ]
    }
   ],
   "source": [
    "# find trigram for specific bigram\n",
    "target_word_1 = 'energy'\n",
    "target_word_2 = 'heat'\n",
    "\n",
    "fullData['tokens'] = fullData['speech'].apply(word_tokenize)\n",
    "stop_words = set(stopwords.words('english'))\n",
    "newStop=['president','object','another','point','get','must','made','two','hr','say','go','come','much','may','make','even','going','also','would','could','think','chair','mr','madam','dont','said','did','does','thank','ask','today','just','000','gentleman','speaker','floor']\n",
    "for word in newStop:\n",
    "    stop_words.add(word)\n",
    "fullData['filtered_tokens'] = fullData['tokens'].apply(lambda x: [word.lower() for word in x if word.isalpha() and word.lower() not in stop_words])\n",
    "\n",
    "fullData['trigrams'] = fullData['filtered_tokens'].apply(lambda x: list(trigrams(x)))\n",
    "all_trigrams = [item for sublist in fullData['trigrams'] for item in sublist]\n",
    "\n",
    "trigram_counts = Counter(all_trigrams)\n",
    "co_located_trigrams = [trigram for trigram, count in trigram_counts.items() if target_word_1 in trigram and target_word_2 in trigram]\n",
    "print(co_located_trigrams)\n",
    "\n",
    "#fullData['bigrams'] = fullData['filtered_tokens'].apply(lambda x: list(bigrams(x)))\n",
    "#all_bigrams = [item for sublist in fullData['bigrams'] for item in sublist]\n",
    "#bigram_counts = Counter(all_bigrams)\n",
    "#co_located_bigrams = [bigram for bigram, count in bigram_counts.items() if target_word_1 in bigram and target_word_2 in bigram]"
   ]
  },
  {
   "cell_type": "code",
   "execution_count": 54,
   "metadata": {},
   "outputs": [
    {
     "name": "stdout",
     "output_type": "stream",
     "text": [
      "1\n",
      "[('energy', 'economy', 'breathe')]\n"
     ]
    }
   ],
   "source": [
    "# find frequency for targeted trigram\n",
    "print(trigram_counts[('energy', 'economy', 'breathe')])\n",
    "print(co_located_trigrams)\n"
   ]
  },
  {
   "cell_type": "code",
   "execution_count": null,
   "metadata": {},
   "outputs": [],
   "source": [
    "# present speech for specific ID\n",
    "pd.set_option('display.max_colwidth', None)\n",
    "fullData[fullData['speech_id']==1070120577]['speech']"
   ]
  },
  {
   "cell_type": "code",
   "execution_count": null,
   "metadata": {},
   "outputs": [],
   "source": [
    "# find trigram ID and row\n",
    "speeches_with_trigrams = fullData[fullData['trigrams'].apply(lambda x: any(trigram in x for trigram in co_located_trigrams))]\n",
    "speeches_with_trigrams"
   ]
  },
  {
   "cell_type": "code",
   "execution_count": 32,
   "metadata": {},
   "outputs": [
    {
     "name": "stdout",
     "output_type": "stream",
     "text": [
      "Co-located Bigram Words without 'renewable': ['trees', 'resource', 'timber', 'situation', 'clean', 'energy', 'winwin', 'technologies', 'many', 'applications']\n",
      "Co-located Trigram Words without 'renewable': [('timber', 'trees', 'renewable'), ('trees', 'renewable', 'resource'), ('renewable', 'resource', 'harvested'), ('reality', 'timber', 'renewable'), ('timber', 'renewable', 'resource'), ('renewable', 'resource', 'properly'), ('ethanol', 'situation', 'renewable'), ('situation', 'renewable', 'clean'), ('renewable', 'clean', 'still'), ('renewable', 'energy', 'winwin')]\n"
     ]
    }
   ],
   "source": [
    "result_df =1\n",
    "colocated('renewable',fullData,result_df)"
   ]
  },
  {
   "cell_type": "code",
   "execution_count": 79,
   "metadata": {},
   "outputs": [
    {
     "data": {
      "text/html": [
       "<div>\n",
       "<style scoped>\n",
       "    .dataframe tbody tr th:only-of-type {\n",
       "        vertical-align: middle;\n",
       "    }\n",
       "\n",
       "    .dataframe tbody tr th {\n",
       "        vertical-align: top;\n",
       "    }\n",
       "\n",
       "    .dataframe thead th {\n",
       "        text-align: right;\n",
       "    }\n",
       "</style>\n",
       "<table border=\"1\" class=\"dataframe\">\n",
       "  <thead>\n",
       "    <tr style=\"text-align: right;\">\n",
       "      <th></th>\n",
       "      <th>oil</th>\n",
       "      <th>energy</th>\n",
       "      <th>renewable</th>\n",
       "      <th>wilderness</th>\n",
       "    </tr>\n",
       "  </thead>\n",
       "  <tbody>\n",
       "    <tr>\n",
       "      <th>0</th>\n",
       "      <td>valdez</td>\n",
       "      <td>alternative</td>\n",
       "      <td>trees</td>\n",
       "      <td>nepa</td>\n",
       "    </tr>\n",
       "    <tr>\n",
       "      <th>1</th>\n",
       "      <td>spill</td>\n",
       "      <td>sources</td>\n",
       "      <td>resource</td>\n",
       "      <td>act</td>\n",
       "    </tr>\n",
       "    <tr>\n",
       "      <th>2</th>\n",
       "      <td>worst</td>\n",
       "      <td>qualified</td>\n",
       "      <td>timber</td>\n",
       "      <td>designation</td>\n",
       "    </tr>\n",
       "    <tr>\n",
       "      <th>3</th>\n",
       "      <td>crude</td>\n",
       "      <td>producing</td>\n",
       "      <td>situation</td>\n",
       "      <td>nearby</td>\n",
       "    </tr>\n",
       "    <tr>\n",
       "      <th>4</th>\n",
       "      <td>bubbled</td>\n",
       "      <td>isolated</td>\n",
       "      <td>clean</td>\n",
       "      <td>protect</td>\n",
       "    </tr>\n",
       "    <tr>\n",
       "      <th>5</th>\n",
       "      <td>provision</td>\n",
       "      <td>grids</td>\n",
       "      <td>energy</td>\n",
       "      <td>values</td>\n",
       "    </tr>\n",
       "    <tr>\n",
       "      <th>6</th>\n",
       "      <td>pollution</td>\n",
       "      <td>systems</td>\n",
       "      <td>winwin</td>\n",
       "      <td>consider</td>\n",
       "    </tr>\n",
       "    <tr>\n",
       "      <th>7</th>\n",
       "      <td>aspects</td>\n",
       "      <td>take</td>\n",
       "      <td>technologies</td>\n",
       "      <td>designations</td>\n",
       "    </tr>\n",
       "    <tr>\n",
       "      <th>8</th>\n",
       "      <td>transport</td>\n",
       "      <td>new</td>\n",
       "      <td>many</td>\n",
       "      <td>new</td>\n",
       "    </tr>\n",
       "    <tr>\n",
       "      <th>9</th>\n",
       "      <td>alaskas</td>\n",
       "      <td>needs</td>\n",
       "      <td>applications</td>\n",
       "      <td>peaks</td>\n",
       "    </tr>\n",
       "    <tr>\n",
       "      <th>10</th>\n",
       "      <td>transportation</td>\n",
       "      <td>information</td>\n",
       "      <td>momentum</td>\n",
       "      <td>believe</td>\n",
       "    </tr>\n",
       "    <tr>\n",
       "      <th>11</th>\n",
       "      <td>resources</td>\n",
       "      <td>renewable</td>\n",
       "      <td>businesses</td>\n",
       "      <td>believe</td>\n",
       "    </tr>\n",
       "    <tr>\n",
       "      <th>12</th>\n",
       "      <td>gas</td>\n",
       "      <td>winwin</td>\n",
       "      <td>various</td>\n",
       "      <td>designation</td>\n",
       "    </tr>\n",
       "    <tr>\n",
       "      <th>13</th>\n",
       "      <td>revenues</td>\n",
       "      <td>suns</td>\n",
       "      <td>resources</td>\n",
       "      <td>years</td>\n",
       "    </tr>\n",
       "    <tr>\n",
       "      <th>14</th>\n",
       "      <td>whether</td>\n",
       "      <td>first</td>\n",
       "      <td>harvest</td>\n",
       "      <td>colorado</td>\n",
       "    </tr>\n",
       "  </tbody>\n",
       "</table>\n",
       "</div>"
      ],
      "text/plain": [
       "               oil       energy     renewable    wilderness\n",
       "0           valdez  alternative         trees          nepa\n",
       "1            spill      sources      resource           act\n",
       "2            worst    qualified        timber   designation\n",
       "3            crude    producing     situation        nearby\n",
       "4          bubbled     isolated         clean       protect\n",
       "5        provision        grids        energy        values\n",
       "6        pollution      systems        winwin      consider\n",
       "7          aspects         take  technologies  designations\n",
       "8        transport          new          many           new\n",
       "9          alaskas        needs  applications         peaks\n",
       "10  transportation  information      momentum       believe\n",
       "11       resources    renewable    businesses       believe\n",
       "12             gas       winwin       various   designation\n",
       "13        revenues         suns     resources         years\n",
       "14         whether        first       harvest      colorado"
      ]
     },
     "execution_count": 79,
     "metadata": {},
     "output_type": "execute_result"
    }
   ],
   "source": [
    "result_df"
   ]
  },
  {
   "cell_type": "code",
   "execution_count": null,
   "metadata": {},
   "outputs": [],
   "source": [
    "#target_word = 'oil','energy','renewable','wilderness'\n",
    "target_list =['park','forest','timber','lake','freshwater','river','dam']\n",
    "for word in target_list:\n",
    "    target_word = word\n",
    "    colocated(target_word,fullData,result_df)"
   ]
  },
  {
   "cell_type": "markdown",
   "metadata": {},
   "source": [
    "### Zoom into 2008"
   ]
  },
  {
   "cell_type": "code",
   "execution_count": 5,
   "metadata": {},
   "outputs": [],
   "source": [
    "import pandas as pd\n",
    "fullData = pd.read_csv('fullData2000.csv')\n",
    "#2008 only \n",
    "fullData['date'] = pd.to_datetime(fullData['date'])\n",
    "data_2008 = fullData[fullData['date'].dt.year == 2008]"
   ]
  },
  {
   "cell_type": "code",
   "execution_count": null,
   "metadata": {},
   "outputs": [],
   "source": [
    "data = data_2008\n",
    "# index must be reset if the data is subsampled\n",
    "data.reset_index(drop=True, inplace=True)\n",
    "\n",
    "# you might want to use seperate environment for Bert and sklearn, \n",
    "# as they have different version requirement for some common dependencies\n",
    "from bertopic import BERTopic\n",
    "\n",
    "# train bert and handle overtime changes\n",
    "bert_model = BERTopic(verbose=True)\n",
    "topics, _ = bert_model.fit_transform(data['speech'])\n",
    "topics_over_time = bert_model.topics_over_time(data['speech'], data['date'], nr_bins=12)\n",
    "#get some visualization\n",
    "bert_model.visualize_topics_over_time(topics_over_time, top_n_topics=20)"
   ]
  },
  {
   "cell_type": "code",
   "execution_count": 26,
   "metadata": {},
   "outputs": [
    {
     "name": "stderr",
     "output_type": "stream",
     "text": [
      "c:\\Users\\tanay\\AppData\\Local\\Programs\\Python\\Python311\\Lib\\site-packages\\scipy\\sparse\\_index.py:143: SparseEfficiencyWarning:\n",
      "\n",
      "Changing the sparsity structure of a csr_matrix is expensive. lil_matrix is more efficient.\n",
      "\n"
     ]
    }
   ],
   "source": [
    "import pickle\n",
    "# Save the BERTopic model\n",
    "with open('bert_model.pkl', 'wb') as model_file:\n",
    "    pickle.dump(bert_model, model_file)\n",
    "\n",
    "# Save the topics_over_time result\n",
    "with open('topics_over_time.pkl', 'wb') as topics_file:\n",
    "    pickle.dump(topics_over_time, topics_file)"
   ]
  },
  {
   "cell_type": "code",
   "execution_count": 25,
   "metadata": {},
   "outputs": [
    {
     "data": {
      "application/vnd.plotly.v1+json": {
       "config": {
        "plotlyServerURL": "https://plot.ly"
       },
       "data": [
        {
         "hoverinfo": "text",
         "hovertext": [
          "<b>Topic 0</b><br>Words: ordered, objection, without, so, it",
          "<b>Topic 0</b><br>Words: ordered, objection, without, so, it",
          "<b>Topic 0</b><br>Words: ordered, objection, without, so, it",
          "<b>Topic 0</b><br>Words: ordered, objection, without, so, it",
          "<b>Topic 0</b><br>Words: ordered, objection, without, so, it",
          "<b>Topic 0</b><br>Words: ordered, objection, without, so, it",
          "<b>Topic 0</b><br>Words: ordered, objection, without, so, it",
          "<b>Topic 0</b><br>Words: ordered, objection, without, so, it",
          "<b>Topic 0</b><br>Words: ordered, objection, without, so, it",
          "<b>Topic 0</b><br>Words: ordered, objection, without, so, it",
          "<b>Topic 0</b><br>Words: ordered, objection, without, so, it",
          "<b>Topic 0</b><br>Words: ordered, objection, without, so, it"
         ],
         "marker": {
          "color": "#E69F00"
         },
         "mode": "lines",
         "name": "0_ordered_objection_without_so",
         "type": "scatter",
         "x": [
          "2008-01-02T15:24:28.800000",
          "2008-02-01T20:00:00",
          "2008-03-02T16:00:00",
          "2008-04-01T12:00:00",
          "2008-05-01T08:00:00",
          "2008-05-31T04:00:00",
          "2008-06-30T00:00:00",
          "2008-07-29T20:00:00",
          "2008-08-28T16:00:00",
          "2008-09-27T12:00:00",
          "2008-10-27T08:00:00",
          "2008-11-26T04:00:00"
         ],
         "y": [
          163,
          323,
          303,
          434,
          291,
          371,
          356,
          92,
          388,
          98,
          48,
          73
         ]
        },
        {
         "hoverinfo": "text",
         "hovertext": [
          "<b>Topic 1</b><br>Words: intelligence, fisa, surveillance, immunity, court",
          "<b>Topic 1</b><br>Words: intelligence, fisa, surveillance, immunity, court",
          "<b>Topic 1</b><br>Words: intelligence, fisa, surveillance, immunity, court",
          "<b>Topic 1</b><br>Words: intelligence, fisa, surveillance, manhattan, immunity",
          "<b>Topic 1</b><br>Words: intelligence, fisa, surveillance, admiral, immunity",
          "<b>Topic 1</b><br>Words: intelligence, surveillance, fisa, immunity, court",
          "<b>Topic 1</b><br>Words: intelligence, fisa, surveillance, immunity, court",
          "<b>Topic 1</b><br>Words: executive, notice, secret, published, orders",
          "<b>Topic 1</b><br>Words: intelligence, olc, executive, branch, surveillance",
          "<b>Topic 1</b><br>Words: nuclear, weapons, india, weapon, nonnuclear"
         ],
         "marker": {
          "color": "#56B4E9"
         },
         "mode": "lines",
         "name": "1_intelligence_fisa_surveillance_immunit...",
         "type": "scatter",
         "x": [
          "2008-01-02T15:24:28.800000",
          "2008-02-01T20:00:00",
          "2008-03-02T16:00:00",
          "2008-04-01T12:00:00",
          "2008-05-01T08:00:00",
          "2008-05-31T04:00:00",
          "2008-06-30T00:00:00",
          "2008-07-29T20:00:00",
          "2008-08-28T16:00:00",
          "2008-09-27T12:00:00"
         ],
         "y": [
          185,
          321,
          226,
          22,
          13,
          104,
          108,
          2,
          22,
          2
         ]
        },
        {
         "hoverinfo": "text",
         "hovertext": [
          "<b>Topic 2</b><br>Words: rollcall, voted, yea, present, aye",
          "<b>Topic 2</b><br>Words: rollcall, yea, voted, present, aye",
          "<b>Topic 2</b><br>Words: rollcall, yea, voted, present, aye",
          "<b>Topic 2</b><br>Words: rollcall, yea, voted, present, aye",
          "<b>Topic 2</b><br>Words: rollcall, voted, present, yea, aye",
          "<b>Topic 2</b><br>Words: rollcall, voted, aye, present, yea",
          "<b>Topic 2</b><br>Words: rollcall, yea, voted, present, aye",
          "<b>Topic 2</b><br>Words: rollcall, voted, aye, yea, present",
          "<b>Topic 2</b><br>Words: rollcall, aye, voted, present, yea",
          "<b>Topic 2</b><br>Words: rollcall, present, voted, yea, rolicall"
         ],
         "marker": {
          "color": "#009E73"
         },
         "mode": "lines",
         "name": "2_rollcall_voted_present_aye",
         "type": "scatter",
         "x": [
          "2008-01-02T15:24:28.800000",
          "2008-02-01T20:00:00",
          "2008-03-02T16:00:00",
          "2008-04-01T12:00:00",
          "2008-05-01T08:00:00",
          "2008-05-31T04:00:00",
          "2008-06-30T00:00:00",
          "2008-07-29T20:00:00",
          "2008-08-28T16:00:00",
          "2008-09-27T12:00:00"
         ],
         "y": [
          48,
          109,
          84,
          123,
          95,
          141,
          80,
          24,
          95,
          22
         ]
        },
        {
         "hoverinfo": "text",
         "hovertext": [
          "<b>Topic 3</b><br>Words: roll, clerk, call, will, the",
          "<b>Topic 3</b><br>Words: roll, clerk, call, will, the",
          "<b>Topic 3</b><br>Words: roll, clerk, call, will, legislativ",
          "<b>Topic 3</b><br>Words: roll, clerk, call, will, willcall",
          "<b>Topic 3</b><br>Words: roll, clerk, call, will, murray",
          "<b>Topic 3</b><br>Words: roll, clerk, call, will, ascertain",
          "<b>Topic 3</b><br>Words: roll, clerk, call, will, willcall",
          "<b>Topic 3</b><br>Words: roll, clerk, call, will, tanks",
          "<b>Topic 3</b><br>Words: roll, clerk, call, will, oi1ficer",
          "<b>Topic 3</b><br>Words: roll, clerk, call, will, the",
          "<b>Topic 3</b><br>Words: roll, clerk, call, will, the",
          "<b>Topic 3</b><br>Words: roll, clerk, call, will, the"
         ],
         "marker": {
          "color": "#F0E442"
         },
         "mode": "lines",
         "name": "3_roll_clerk_call_will",
         "type": "scatter",
         "x": [
          "2008-01-02T15:24:28.800000",
          "2008-02-01T20:00:00",
          "2008-03-02T16:00:00",
          "2008-04-01T12:00:00",
          "2008-05-01T08:00:00",
          "2008-05-31T04:00:00",
          "2008-06-30T00:00:00",
          "2008-07-29T20:00:00",
          "2008-08-28T16:00:00",
          "2008-09-27T12:00:00",
          "2008-10-27T08:00:00",
          "2008-11-26T04:00:00"
         ],
         "y": [
          53,
          59,
          68,
          114,
          64,
          95,
          73,
          21,
          100,
          32,
          27,
          36
         ]
        },
        {
         "hoverinfo": "text",
         "hovertext": [
          "<b>Topic 4</b><br>Words: amendments, amnesty, republican, we, here",
          "<b>Topic 4</b><br>Words: majority, leader, minority, amendments, asbestos",
          "<b>Topic 4</b><br>Words: amendments, filibusters, votes, mortgage, product",
          "<b>Topic 4</b><br>Words: amendments, filibuster, republican, going, here",
          "<b>Topic 4</b><br>Words: amendments, flood, bill, debate, process",
          "<b>Topic 4</b><br>Words: amendments, republicans, cloture, debate, majority",
          "<b>Topic 4</b><br>Words: amendments, majority, bills, offer, tree",
          "<b>Topic 4</b><br>Words: bills, blocked, republicans, amendments, republican",
          "<b>Topic 4</b><br>Words: amendments, majority, here, bills, floor",
          "<b>Topic 4</b><br>Words: vote, wednesday, here, think, fail",
          "<b>Topic 4</b><br>Words: fond, shave, kentucky, memories, ban",
          "<b>Topic 4</b><br>Words: cloture, automobile, corker, everyone, complete"
         ],
         "marker": {
          "color": "#D55E00"
         },
         "mode": "lines",
         "name": "4_amendments_majority_republicans_here",
         "type": "scatter",
         "x": [
          "2008-01-02T15:24:28.800000",
          "2008-02-01T20:00:00",
          "2008-03-02T16:00:00",
          "2008-04-01T12:00:00",
          "2008-05-01T08:00:00",
          "2008-05-31T04:00:00",
          "2008-06-30T00:00:00",
          "2008-07-29T20:00:00",
          "2008-08-28T16:00:00",
          "2008-09-27T12:00:00",
          "2008-10-27T08:00:00",
          "2008-11-26T04:00:00"
         ],
         "y": [
          39,
          40,
          63,
          92,
          104,
          102,
          114,
          21,
          107,
          22,
          3,
          10
         ]
        },
        {
         "hoverinfo": "text",
         "hovertext": [
          "<b>Topic 5</b><br>Words: rescinded, quorum, call, unanimous, consent",
          "<b>Topic 5</b><br>Words: rescinded, quorum, call, unanimous, consent",
          "<b>Topic 5</b><br>Words: rescinded, quorum, call, unanimous, consent",
          "<b>Topic 5</b><br>Words: rescinded, quorum, call, unanimous, consent",
          "<b>Topic 5</b><br>Words: rescinded, quorum, call, unanimous, consent",
          "<b>Topic 5</b><br>Words: rescinded, quorum, call, unanimous, consent",
          "<b>Topic 5</b><br>Words: rescinded, quorum, call, unanimous, consent",
          "<b>Topic 5</b><br>Words: rescinded, quorum, call, unanimous, consent",
          "<b>Topic 5</b><br>Words: rescinded, quorum, call, unanimous, consent",
          "<b>Topic 5</b><br>Words: rescinded, quorum, call, unanimous, consent",
          "<b>Topic 5</b><br>Words: rescinded, quorum, call, unanimous, consent",
          "<b>Topic 5</b><br>Words: rescinded, quorum, call, unanimous, consent"
         ],
         "marker": {
          "color": "#0072B2"
         },
         "mode": "lines",
         "name": "5_rescinded_quorum_call_unanimous",
         "type": "scatter",
         "x": [
          "2008-01-02T15:24:28.800000",
          "2008-02-01T20:00:00",
          "2008-03-02T16:00:00",
          "2008-04-01T12:00:00",
          "2008-05-01T08:00:00",
          "2008-05-31T04:00:00",
          "2008-06-30T00:00:00",
          "2008-07-29T20:00:00",
          "2008-08-28T16:00:00",
          "2008-09-27T12:00:00",
          "2008-10-27T08:00:00",
          "2008-11-26T04:00:00"
         ],
         "y": [
          45,
          48,
          44,
          78,
          49,
          72,
          45,
          17,
          67,
          20,
          13,
          19
         ]
        },
        {
         "hoverinfo": "text",
         "hovertext": [
          "<b>Topic 6</b><br>Words: sergeant, his, medal, army, josh",
          "<b>Topic 6</b><br>Words: sergeant, medal, his, army, marine",
          "<b>Topic 6</b><br>Words: sergeant, brent, freshour, his, medal",
          "<b>Topic 6</b><br>Words: sergeant, medal, his, army, marine",
          "<b>Topic 6</b><br>Words: sergeant, colonel, medal, army, his",
          "<b>Topic 6</b><br>Words: colonel, medal, army, sergeant, air",
          "<b>Topic 6</b><br>Words: medal, his, army, sergeant, corporal",
          "<b>Topic 6</b><br>Words: afosi, farenholt, colonel, air, vimoto",
          "<b>Topic 6</b><br>Words: medal, colonel, his, sergeant, army",
          "<b>Topic 6</b><br>Words: sgt, gourley, commander, obering, mccool",
          "<b>Topic 6</b><br>Words: marine, assigned, battalion, 1st, sergeant",
          "<b>Topic 6</b><br>Words: yllescas, einar, captain, celeste, marine"
         ],
         "marker": {
          "color": "#CC79A7"
         },
         "mode": "lines",
         "name": "6_sergeant_medal_his_army",
         "type": "scatter",
         "x": [
          "2008-01-02T15:24:28.800000",
          "2008-02-01T20:00:00",
          "2008-03-02T16:00:00",
          "2008-04-01T12:00:00",
          "2008-05-01T08:00:00",
          "2008-05-31T04:00:00",
          "2008-06-30T00:00:00",
          "2008-07-29T20:00:00",
          "2008-08-28T16:00:00",
          "2008-09-27T12:00:00",
          "2008-10-27T08:00:00",
          "2008-11-26T04:00:00"
         ],
         "y": [
          37,
          51,
          24,
          73,
          50,
          74,
          60,
          15,
          71,
          20,
          18,
          12
         ]
        },
        {
         "hoverinfo": "text",
         "hovertext": [
          "<b>Topic 7</b><br>Words: deficits, surplus, congratulate, confronting, boerner",
          "<b>Topic 7</b><br>Words: budget, cuts, spending, deficit, debt",
          "<b>Topic 7</b><br>Words: budget, tax, taxes, spending, cuts",
          "<b>Topic 7</b><br>Words: budget, spending, taxes, tax, debt",
          "<b>Topic 7</b><br>Words: budget, tax, taxes, spending, trillion",
          "<b>Topic 7</b><br>Words: budget, debt, trillion, spending, cuts",
          "<b>Topic 7</b><br>Words: tax, budget, deficit, spending, taxes",
          "<b>Topic 7</b><br>Words: budget, republicans, tax, turbines, deficit",
          "<b>Topic 7</b><br>Words: budget, tax, spending, taxes, deficit",
          "<b>Topic 7</b><br>Words: class, mccain, spending, tax, middle",
          "<b>Topic 7</b><br>Words: generationsa, renaissance, barack, shortfalls, presidentelect",
          "<b>Topic 7</b><br>Words: cirincione, fargo, breather, budget, money"
         ],
         "marker": {
          "color": "#E69F00"
         },
         "mode": "lines",
         "name": "7_budget_tax_spending_taxes",
         "type": "scatter",
         "x": [
          "2008-01-02T15:24:28.800000",
          "2008-02-01T20:00:00",
          "2008-03-02T16:00:00",
          "2008-04-01T12:00:00",
          "2008-05-01T08:00:00",
          "2008-05-31T04:00:00",
          "2008-06-30T00:00:00",
          "2008-07-29T20:00:00",
          "2008-08-28T16:00:00",
          "2008-09-27T12:00:00",
          "2008-10-27T08:00:00",
          "2008-11-26T04:00:00"
         ],
         "y": [
          2,
          84,
          212,
          43,
          35,
          44,
          9,
          2,
          19,
          6,
          1,
          3
         ]
        },
        {
         "hoverinfo": "text",
         "hovertext": [
          "<b>Topic 8</b><br>Words: chairman, yield, gentleman, minutes, minute",
          "<b>Topic 8</b><br>Words: chairman, yield, minutes, minute, gentleman",
          "<b>Topic 8</b><br>Words: chairman, yield, minutes, gentleman, minute",
          "<b>Topic 8</b><br>Words: chairman, yield, minutes, minute, gentleman",
          "<b>Topic 8</b><br>Words: chairman, yield, minute, gentleman, minutes",
          "<b>Topic 8</b><br>Words: chairman, yield, minutes, gentleman, minute",
          "<b>Topic 8</b><br>Words: chairman, yield, minutes, gentleman, 135w",
          "<b>Topic 8</b><br>Words: chairman, yield, minutes, gentleman, subcommittee",
          "<b>Topic 8</b><br>Words: chairman, yield, minutes, gentleman, norton",
          "<b>Topic 8</b><br>Words: importarit, playing, minute, oversight, reform",
          "<b>Topic 8</b><br>Words: kucinich, paul, mr, chairman, yield"
         ],
         "marker": {
          "color": "#56B4E9"
         },
         "mode": "lines",
         "name": "8_chairman_yield_minutes_gentleman",
         "type": "scatter",
         "x": [
          "2008-01-02T15:24:28.800000",
          "2008-02-01T20:00:00",
          "2008-03-02T16:00:00",
          "2008-04-01T12:00:00",
          "2008-05-01T08:00:00",
          "2008-05-31T04:00:00",
          "2008-06-30T00:00:00",
          "2008-07-29T20:00:00",
          "2008-08-28T16:00:00",
          "2008-09-27T12:00:00",
          "2008-11-26T04:00:00"
         ],
         "y": [
          32,
          39,
          63,
          97,
          89,
          54,
          25,
          14,
          25,
          1,
          1
         ]
        },
        {
         "hoverinfo": "text",
         "hovertext": [
          "<b>Topic 9</b><br>Words: ayes, affirmative, twothirds, opinion, chair",
          "<b>Topic 9</b><br>Words: ayes, affirmative, twothirds, opinion, chair",
          "<b>Topic 9</b><br>Words: ayes, affirmative, twothirds, opinion, chair",
          "<b>Topic 9</b><br>Words: ayes, affirmative, twothirds, opinion, chair",
          "<b>Topic 9</b><br>Words: ayes, affirmative, twothirds, opinion, chair",
          "<b>Topic 9</b><br>Words: ayes, affirmative, twothirds, opinion, chair",
          "<b>Topic 9</b><br>Words: ayes, affirmative, twothirds, opinion, chair",
          "<b>Topic 9</b><br>Words: ayes, affirmative, twothirds, opinion, chair",
          "<b>Topic 9</b><br>Words: ayes, affirmative, twothirds, opinion, chair",
          "<b>Topic 9</b><br>Words: ayes, affirmative, twothirds, opinion, chair"
         ],
         "marker": {
          "color": "#009E73"
         },
         "mode": "lines",
         "name": "9_ayes_affirmative_twothirds_opinion",
         "type": "scatter",
         "x": [
          "2008-01-02T15:24:28.800000",
          "2008-02-01T20:00:00",
          "2008-03-02T16:00:00",
          "2008-04-01T12:00:00",
          "2008-05-01T08:00:00",
          "2008-05-31T04:00:00",
          "2008-06-30T00:00:00",
          "2008-07-29T20:00:00",
          "2008-08-28T16:00:00",
          "2008-09-27T12:00:00"
         ],
         "y": [
          7,
          24,
          28,
          24,
          87,
          61,
          56,
          9,
          120,
          8
         ]
        },
        {
         "hoverinfo": "text",
         "hovertext": [
          "<b>Topic 10</b><br>Words: member, yield, distinguished, minutes, subcommittee",
          "<b>Topic 10</b><br>Words: yield, minutes, member, judiciary, distinguished",
          "<b>Topic 10</b><br>Words: yield, minutes, member, judiciary, subcommittee",
          "<b>Topic 10</b><br>Words: yield, minutes, member, subcommittee, gentleman",
          "<b>Topic 10</b><br>Words: yield, member, minutes, distinguished, gentleman",
          "<b>Topic 10</b><br>Words: yield, minutes, member, gentleman, distinguished",
          "<b>Topic 10</b><br>Words: yield, minutes, member, distinguished, gentleman",
          "<b>Topic 10</b><br>Words: minutes, subcommittee, member, yield, refoim",
          "<b>Topic 10</b><br>Words: yield, member, minutes, subcommittee, gentleman",
          "<b>Topic 10</b><br>Words: ways, yield, minutes, member, minute",
          "<b>Topic 10</b><br>Words: happy, marietta, yield, cantor, minutes"
         ],
         "marker": {
          "color": "#F0E442"
         },
         "mode": "lines",
         "name": "10_yield_minutes_member_distinguished",
         "type": "scatter",
         "x": [
          "2008-01-02T15:24:28.800000",
          "2008-02-01T20:00:00",
          "2008-03-02T16:00:00",
          "2008-04-01T12:00:00",
          "2008-05-01T08:00:00",
          "2008-05-31T04:00:00",
          "2008-06-30T00:00:00",
          "2008-07-29T20:00:00",
          "2008-08-28T16:00:00",
          "2008-09-27T12:00:00",
          "2008-11-26T04:00:00"
         ],
         "y": [
          34,
          36,
          42,
          42,
          50,
          49,
          57,
          11,
          75,
          15,
          5
         ]
        },
        {
         "hoverinfo": "text",
         "hovertext": [
          "<b>Topic 11</b><br>Words: cuba, castro, letters, withdrawing, boundary",
          "<b>Topic 11</b><br>Words: drilling, drill, oil, samuelsons, samuelson",
          "<b>Topic 11</b><br>Words: drill, drilling, oil, acres, anwr",
          "<b>Topic 11</b><br>Words: drill, leases, drilling, acres, oil",
          "<b>Topic 11</b><br>Words: drill, drilling, acres, leases, oil",
          "<b>Topic 11</b><br>Words: drill, drilling, oil, acres, offshore",
          "<b>Topic 11</b><br>Words: drilling, drill, acres, oil, leases",
          "<b>Topic 11</b><br>Words: ecuador, amazon, refugee, remediated, chevron"
         ],
         "marker": {
          "color": "#D55E00"
         },
         "mode": "lines",
         "name": "11_drill_drilling_leases_acres",
         "type": "scatter",
         "x": [
          "2008-01-02T15:24:28.800000",
          "2008-04-01T12:00:00",
          "2008-05-01T08:00:00",
          "2008-05-31T04:00:00",
          "2008-06-30T00:00:00",
          "2008-07-29T20:00:00",
          "2008-08-28T16:00:00",
          "2008-11-26T04:00:00"
         ],
         "y": [
          1,
          6,
          34,
          155,
          165,
          12,
          24,
          1
         ]
        },
        {
         "hoverinfo": "text",
         "hovertext": [
          "<b>Topic 12</b><br>Words: slowdown, citigroup, wall, economy, banking",
          "<b>Topic 12</b><br>Words: charge, card, murphy, due, fiscally",
          "<b>Topic 12</b><br>Words: sovereign, wealth, motive, foreclosures, hotline",
          "<b>Topic 12</b><br>Words: stearns, bear, street, wall, banks",
          "<b>Topic 12</b><br>Words: stearns, bear, bailout, penn, garrett",
          "<b>Topic 12</b><br>Words: institutions, wall, street, financial, securities",
          "<b>Topic 12</b><br>Words: wall, street, financial, bailout, 700",
          "<b>Topic 12</b><br>Words: street, wall, financial, bailout, treasury",
          "<b>Topic 12</b><br>Words: financial, paulson, street, wall, treasury",
          "<b>Topic 12</b><br>Words: automobile, car, bankruptcy, bailout, cars"
         ],
         "marker": {
          "color": "#0072B2"
         },
         "mode": "lines",
         "name": "12_street_wall_financial_bailout",
         "type": "scatter",
         "x": [
          "2008-01-02T15:24:28.800000",
          "2008-02-01T20:00:00",
          "2008-03-02T16:00:00",
          "2008-04-01T12:00:00",
          "2008-05-01T08:00:00",
          "2008-06-30T00:00:00",
          "2008-08-28T16:00:00",
          "2008-09-27T12:00:00",
          "2008-10-27T08:00:00",
          "2008-11-26T04:00:00"
         ],
         "y": [
          2,
          1,
          3,
          11,
          8,
          7,
          118,
          210,
          8,
          9
         ]
        },
        {
         "hoverinfo": "text",
         "hovertext": [
          "<b>Topic 13</b><br>Words: balance, yield, urge, consume, perfectionism",
          "<b>Topic 13</b><br>Words: balance, urge, yield, speaker, passage",
          "<b>Topic 13</b><br>Words: explained, yield, balance, consume, urge",
          "<b>Topic 13</b><br>Words: balance, urge, yield, speaker, back",
          "<b>Topic 13</b><br>Words: balance, urge, yield, back, speaker",
          "<b>Topic 13</b><br>Words: balance, urge, yield, back, speaker",
          "<b>Topic 13</b><br>Words: balance, urge, yield, passage, back",
          "<b>Topic 13</b><br>Words: balance, authorities, urge, hire, requests",
          "<b>Topic 13</b><br>Words: balance, urge, yield, back, speaker",
          "<b>Topic 13</b><br>Words: guardsmen, reservists, handily, urge, labored",
          "<b>Topic 13</b><br>Words: finish, seconds, frank, main, bankruptcy"
         ],
         "marker": {
          "color": "#CC79A7"
         },
         "mode": "lines",
         "name": "13_balance_urge_yield_back",
         "type": "scatter",
         "x": [
          "2008-01-02T15:24:28.800000",
          "2008-02-01T20:00:00",
          "2008-03-02T16:00:00",
          "2008-04-01T12:00:00",
          "2008-05-01T08:00:00",
          "2008-05-31T04:00:00",
          "2008-06-30T00:00:00",
          "2008-07-29T20:00:00",
          "2008-08-28T16:00:00",
          "2008-09-27T12:00:00",
          "2008-11-26T04:00:00"
         ],
         "y": [
          12,
          24,
          24,
          31,
          41,
          48,
          61,
          7,
          118,
          8,
          1
         ]
        },
        {
         "hoverinfo": "text",
         "hovertext": [
          "<b>Topic 14</b><br>Words: farm, conferees, producers, agriculture, farmers",
          "<b>Topic 14</b><br>Words: stamps, food, farm, housepassed, stamp",
          "<b>Topic 14</b><br>Words: farm, farmers, agriculture, tape, nutrition",
          "<b>Topic 14</b><br>Words: farm, farmers, agriculture, food, payments",
          "<b>Topic 14</b><br>Words: farm, farmers, food, agriculture, nutrition",
          "<b>Topic 14</b><br>Words: farm, food, farmers, agriculture, title",
          "<b>Topic 14</b><br>Words: sbir, farm, small, rural, businesses",
          "<b>Topic 14</b><br>Words: genetically, engineered, convergence, agriculture, farmers",
          "<b>Topic 14</b><br>Words: farm, farmers, dairy, agriculture, farms",
          "<b>Topic 14</b><br>Words: farms, usda, guy, farm, acres",
          "<b>Topic 14</b><br>Words: barley, ibc, growers, idaho, idahos"
         ],
         "marker": {
          "color": "#E69F00"
         },
         "mode": "lines",
         "name": "14_farm_farmers_food_agriculture",
         "type": "scatter",
         "x": [
          "2008-01-02T15:24:28.800000",
          "2008-02-01T20:00:00",
          "2008-03-02T16:00:00",
          "2008-04-01T12:00:00",
          "2008-05-01T08:00:00",
          "2008-05-31T04:00:00",
          "2008-06-30T00:00:00",
          "2008-07-29T20:00:00",
          "2008-08-28T16:00:00",
          "2008-09-27T12:00:00",
          "2008-11-26T04:00:00"
         ],
         "y": [
          3,
          3,
          10,
          51,
          239,
          20,
          3,
          3,
          24,
          3,
          1
         ]
        },
        {
         "hoverinfo": "text",
         "hovertext": [
          "<b>Topic 15</b><br>Words: bob, mayor, his, nando, cheers",
          "<b>Topic 15</b><br>Words: his, mangus, city, burlington, ball",
          "<b>Topic 15</b><br>Words: howe, middleburg, dennis, riverside, moser",
          "<b>Topic 15</b><br>Words: joe, sigco, laborers, ed, his",
          "<b>Topic 15</b><br>Words: mayor, city, toledo, his, bob",
          "<b>Topic 15</b><br>Words: ca, his, bob, city, tx",
          "<b>Topic 15</b><br>Words: cloverdale, his, gamegan, raisin, bob",
          "<b>Topic 15</b><br>Words: ray, roveda, borre, farrow, sid",
          "<b>Topic 15</b><br>Words: bob, ray, his, pollman, pages",
          "<b>Topic 15</b><br>Words: maufort, ray, lacosse, supervisor, parte",
          "<b>Topic 15</b><br>Words: bob, wiekamp, hansberger, battelle, randy",
          "<b>Topic 15</b><br>Words: ned, charlie, adegboye, mims, bob"
         ],
         "marker": {
          "color": "#56B4E9"
         },
         "mode": "lines",
         "name": "15_his_bob_city_mayor",
         "type": "scatter",
         "x": [
          "2008-01-02T15:24:28.800000",
          "2008-02-01T20:00:00",
          "2008-03-02T16:00:00",
          "2008-04-01T12:00:00",
          "2008-05-01T08:00:00",
          "2008-05-31T04:00:00",
          "2008-06-30T00:00:00",
          "2008-07-29T20:00:00",
          "2008-08-28T16:00:00",
          "2008-09-27T12:00:00",
          "2008-10-27T08:00:00",
          "2008-11-26T04:00:00"
         ],
         "y": [
          21,
          32,
          22,
          32,
          30,
          32,
          26,
          8,
          53,
          19,
          16,
          12
         ]
        },
        {
         "hoverinfo": "text",
         "hovertext": [
          "<b>Topic 16</b><br>Words: balance, back, yield, time, speaker",
          "<b>Topic 16</b><br>Words: balance, back, yield, time, speaker",
          "<b>Topic 16</b><br>Words: balance, back, yield, time, speaker",
          "<b>Topic 16</b><br>Words: balance, back, yield, time, speaker",
          "<b>Topic 16</b><br>Words: balance, back, yield, time, speaker",
          "<b>Topic 16</b><br>Words: balance, back, yield, time, speaker",
          "<b>Topic 16</b><br>Words: balance, back, yield, time, speaker",
          "<b>Topic 16</b><br>Words: balance, back, yield, time, speaker",
          "<b>Topic 16</b><br>Words: balance, back, yield, time, speaker",
          "<b>Topic 16</b><br>Words: balance, back, yield, time, speaker"
         ],
         "marker": {
          "color": "#009E73"
         },
         "mode": "lines",
         "name": "16_balance_back_yield_time",
         "type": "scatter",
         "x": [
          "2008-01-02T15:24:28.800000",
          "2008-02-01T20:00:00",
          "2008-03-02T16:00:00",
          "2008-04-01T12:00:00",
          "2008-05-01T08:00:00",
          "2008-05-31T04:00:00",
          "2008-06-30T00:00:00",
          "2008-07-29T20:00:00",
          "2008-08-28T16:00:00",
          "2008-09-27T12:00:00"
         ],
         "y": [
          2,
          29,
          29,
          35,
          41,
          36,
          43,
          5,
          74,
          2
         ]
        },
        {
         "hoverinfo": "text",
         "hovertext": [
          "<b>Topic 17</b><br>Words: championship, team, football, coach, season",
          "<b>Topic 17</b><br>Words: dynamo, team, coach, championship, mls",
          "<b>Topic 17</b><br>Words: team, championship, coach, season, ncaa",
          "<b>Topic 17</b><br>Words: championship, team, basketball, coach, season",
          "<b>Topic 17</b><br>Words: team, championship, coach, season, basketball",
          "<b>Topic 17</b><br>Words: championship, team, coach, season, ncaa",
          "<b>Topic 17</b><br>Words: coach, team, championship, season, ncaa",
          "<b>Topic 17</b><br>Words: championship, team, coach, bordentown, season",
          "<b>Topic 17</b><br>Words: coach, team, championship, league, waipio",
          "<b>Topic 17</b><br>Words: cats, triplea, river, championship, crosscountry",
          "<b>Topic 17</b><br>Words: fresno, team, athletic, coach, fame",
          "<b>Topic 17</b><br>Words: championship, team, coach, football, bcs"
         ],
         "marker": {
          "color": "#F0E442"
         },
         "mode": "lines",
         "name": "17_championship_team_coach_season",
         "type": "scatter",
         "x": [
          "2008-01-02T15:24:28.800000",
          "2008-02-01T20:00:00",
          "2008-03-02T16:00:00",
          "2008-04-01T12:00:00",
          "2008-05-01T08:00:00",
          "2008-05-31T04:00:00",
          "2008-06-30T00:00:00",
          "2008-07-29T20:00:00",
          "2008-08-28T16:00:00",
          "2008-09-27T12:00:00",
          "2008-10-27T08:00:00",
          "2008-11-26T04:00:00"
         ],
         "y": [
          28,
          15,
          43,
          51,
          35,
          36,
          34,
          9,
          11,
          2,
          15,
          7
         ]
        },
        {
         "hoverinfo": "text",
         "hovertext": [
          "<b>Topic 18</b><br>Words: yeas, nays, demand, speaker, mr",
          "<b>Topic 18</b><br>Words: yeas, nays, demand, bish, speaker",
          "<b>Topic 18</b><br>Words: yeas, nays, demand, speaker, mr",
          "<b>Topic 18</b><br>Words: yeas, nays, demand, speaker, mr",
          "<b>Topic 18</b><br>Words: yeas, nays, demand, speaker, mr",
          "<b>Topic 18</b><br>Words: yeas, nays, demand, speaker, mr",
          "<b>Topic 18</b><br>Words: yeas, nays, demand, speaker, mr",
          "<b>Topic 18</b><br>Words: yeas, nays, demand, speaker, mr",
          "<b>Topic 18</b><br>Words: nays, yeas, demand, speaker, mr",
          "<b>Topic 18</b><br>Words: yeas, nays, demand, speaker, mr",
          "<b>Topic 18</b><br>Words: yeas, nays, demand, speaker, mr"
         ],
         "marker": {
          "color": "#D55E00"
         },
         "mode": "lines",
         "name": "18_yeas_nays_demand_speaker",
         "type": "scatter",
         "x": [
          "2008-01-02T15:24:28.800000",
          "2008-02-01T20:00:00",
          "2008-03-02T16:00:00",
          "2008-04-01T12:00:00",
          "2008-05-01T08:00:00",
          "2008-05-31T04:00:00",
          "2008-06-30T00:00:00",
          "2008-07-29T20:00:00",
          "2008-08-28T16:00:00",
          "2008-09-27T12:00:00",
          "2008-11-26T04:00:00"
         ],
         "y": [
          3,
          31,
          24,
          38,
          37,
          50,
          36,
          3,
          52,
          7,
          2
         ]
        },
        {
         "hoverinfo": "text",
         "hovertext": [
          "<b>Topic 19</b><br>Words: scout, troop, eagle, scouts, proudly",
          "<b>Topic 19</b><br>Words: scout, scouts, eagle, boy, proudly",
          "<b>Topic 19</b><br>Words: scout, troop, eagle, scouts, proudly",
          "<b>Topic 19</b><br>Words: scout, eagle, scouts, troop, proudly",
          "<b>Topic 19</b><br>Words: scout, eagle, scouts, troop, boy",
          "<b>Topic 19</b><br>Words: scout, eagle, scouts, troop, proudly",
          "<b>Topic 19</b><br>Words: scout, eagle, troop, scouts, proudly",
          "<b>Topic 19</b><br>Words: kling, lee, hisplight, e1691, missourian",
          "<b>Topic 19</b><br>Words: scout, eagle, troop, scouts, proudly",
          "<b>Topic 19</b><br>Words: scout, eagle, troop, proudly, scouts",
          "<b>Topic 19</b><br>Words: scout, eagle, troop, scouts, proudly",
          "<b>Topic 19</b><br>Words: scout, eagle, troop, scouts, proudly"
         ],
         "marker": {
          "color": "#0072B2"
         },
         "mode": "lines",
         "name": "19_scout_eagle_troop_scouts",
         "type": "scatter",
         "x": [
          "2008-01-02T15:24:28.800000",
          "2008-02-01T20:00:00",
          "2008-03-02T16:00:00",
          "2008-04-01T12:00:00",
          "2008-05-01T08:00:00",
          "2008-05-31T04:00:00",
          "2008-06-30T00:00:00",
          "2008-07-29T20:00:00",
          "2008-08-28T16:00:00",
          "2008-09-27T12:00:00",
          "2008-10-27T08:00:00",
          "2008-11-26T04:00:00"
         ],
         "y": [
          23,
          16,
          21,
          44,
          12,
          28,
          12,
          1,
          69,
          18,
          18,
          19
         ]
        }
       ],
       "layout": {
        "height": 450,
        "hoverlabel": {
         "bgcolor": "white",
         "font": {
          "family": "Rockwell",
          "size": 16
         }
        },
        "legend": {
         "title": {
          "text": "<b>Global Topic Representation"
         }
        },
        "template": {
         "data": {
          "bar": [
           {
            "error_x": {
             "color": "rgb(36,36,36)"
            },
            "error_y": {
             "color": "rgb(36,36,36)"
            },
            "marker": {
             "line": {
              "color": "white",
              "width": 0.5
             },
             "pattern": {
              "fillmode": "overlay",
              "size": 10,
              "solidity": 0.2
             }
            },
            "type": "bar"
           }
          ],
          "barpolar": [
           {
            "marker": {
             "line": {
              "color": "white",
              "width": 0.5
             },
             "pattern": {
              "fillmode": "overlay",
              "size": 10,
              "solidity": 0.2
             }
            },
            "type": "barpolar"
           }
          ],
          "carpet": [
           {
            "aaxis": {
             "endlinecolor": "rgb(36,36,36)",
             "gridcolor": "white",
             "linecolor": "white",
             "minorgridcolor": "white",
             "startlinecolor": "rgb(36,36,36)"
            },
            "baxis": {
             "endlinecolor": "rgb(36,36,36)",
             "gridcolor": "white",
             "linecolor": "white",
             "minorgridcolor": "white",
             "startlinecolor": "rgb(36,36,36)"
            },
            "type": "carpet"
           }
          ],
          "choropleth": [
           {
            "colorbar": {
             "outlinewidth": 1,
             "tickcolor": "rgb(36,36,36)",
             "ticks": "outside"
            },
            "type": "choropleth"
           }
          ],
          "contour": [
           {
            "colorbar": {
             "outlinewidth": 1,
             "tickcolor": "rgb(36,36,36)",
             "ticks": "outside"
            },
            "colorscale": [
             [
              0,
              "#440154"
             ],
             [
              0.1111111111111111,
              "#482878"
             ],
             [
              0.2222222222222222,
              "#3e4989"
             ],
             [
              0.3333333333333333,
              "#31688e"
             ],
             [
              0.4444444444444444,
              "#26828e"
             ],
             [
              0.5555555555555556,
              "#1f9e89"
             ],
             [
              0.6666666666666666,
              "#35b779"
             ],
             [
              0.7777777777777778,
              "#6ece58"
             ],
             [
              0.8888888888888888,
              "#b5de2b"
             ],
             [
              1,
              "#fde725"
             ]
            ],
            "type": "contour"
           }
          ],
          "contourcarpet": [
           {
            "colorbar": {
             "outlinewidth": 1,
             "tickcolor": "rgb(36,36,36)",
             "ticks": "outside"
            },
            "type": "contourcarpet"
           }
          ],
          "heatmap": [
           {
            "colorbar": {
             "outlinewidth": 1,
             "tickcolor": "rgb(36,36,36)",
             "ticks": "outside"
            },
            "colorscale": [
             [
              0,
              "#440154"
             ],
             [
              0.1111111111111111,
              "#482878"
             ],
             [
              0.2222222222222222,
              "#3e4989"
             ],
             [
              0.3333333333333333,
              "#31688e"
             ],
             [
              0.4444444444444444,
              "#26828e"
             ],
             [
              0.5555555555555556,
              "#1f9e89"
             ],
             [
              0.6666666666666666,
              "#35b779"
             ],
             [
              0.7777777777777778,
              "#6ece58"
             ],
             [
              0.8888888888888888,
              "#b5de2b"
             ],
             [
              1,
              "#fde725"
             ]
            ],
            "type": "heatmap"
           }
          ],
          "heatmapgl": [
           {
            "colorbar": {
             "outlinewidth": 1,
             "tickcolor": "rgb(36,36,36)",
             "ticks": "outside"
            },
            "colorscale": [
             [
              0,
              "#440154"
             ],
             [
              0.1111111111111111,
              "#482878"
             ],
             [
              0.2222222222222222,
              "#3e4989"
             ],
             [
              0.3333333333333333,
              "#31688e"
             ],
             [
              0.4444444444444444,
              "#26828e"
             ],
             [
              0.5555555555555556,
              "#1f9e89"
             ],
             [
              0.6666666666666666,
              "#35b779"
             ],
             [
              0.7777777777777778,
              "#6ece58"
             ],
             [
              0.8888888888888888,
              "#b5de2b"
             ],
             [
              1,
              "#fde725"
             ]
            ],
            "type": "heatmapgl"
           }
          ],
          "histogram": [
           {
            "marker": {
             "line": {
              "color": "white",
              "width": 0.6
             }
            },
            "type": "histogram"
           }
          ],
          "histogram2d": [
           {
            "colorbar": {
             "outlinewidth": 1,
             "tickcolor": "rgb(36,36,36)",
             "ticks": "outside"
            },
            "colorscale": [
             [
              0,
              "#440154"
             ],
             [
              0.1111111111111111,
              "#482878"
             ],
             [
              0.2222222222222222,
              "#3e4989"
             ],
             [
              0.3333333333333333,
              "#31688e"
             ],
             [
              0.4444444444444444,
              "#26828e"
             ],
             [
              0.5555555555555556,
              "#1f9e89"
             ],
             [
              0.6666666666666666,
              "#35b779"
             ],
             [
              0.7777777777777778,
              "#6ece58"
             ],
             [
              0.8888888888888888,
              "#b5de2b"
             ],
             [
              1,
              "#fde725"
             ]
            ],
            "type": "histogram2d"
           }
          ],
          "histogram2dcontour": [
           {
            "colorbar": {
             "outlinewidth": 1,
             "tickcolor": "rgb(36,36,36)",
             "ticks": "outside"
            },
            "colorscale": [
             [
              0,
              "#440154"
             ],
             [
              0.1111111111111111,
              "#482878"
             ],
             [
              0.2222222222222222,
              "#3e4989"
             ],
             [
              0.3333333333333333,
              "#31688e"
             ],
             [
              0.4444444444444444,
              "#26828e"
             ],
             [
              0.5555555555555556,
              "#1f9e89"
             ],
             [
              0.6666666666666666,
              "#35b779"
             ],
             [
              0.7777777777777778,
              "#6ece58"
             ],
             [
              0.8888888888888888,
              "#b5de2b"
             ],
             [
              1,
              "#fde725"
             ]
            ],
            "type": "histogram2dcontour"
           }
          ],
          "mesh3d": [
           {
            "colorbar": {
             "outlinewidth": 1,
             "tickcolor": "rgb(36,36,36)",
             "ticks": "outside"
            },
            "type": "mesh3d"
           }
          ],
          "parcoords": [
           {
            "line": {
             "colorbar": {
              "outlinewidth": 1,
              "tickcolor": "rgb(36,36,36)",
              "ticks": "outside"
             }
            },
            "type": "parcoords"
           }
          ],
          "pie": [
           {
            "automargin": true,
            "type": "pie"
           }
          ],
          "scatter": [
           {
            "fillpattern": {
             "fillmode": "overlay",
             "size": 10,
             "solidity": 0.2
            },
            "type": "scatter"
           }
          ],
          "scatter3d": [
           {
            "line": {
             "colorbar": {
              "outlinewidth": 1,
              "tickcolor": "rgb(36,36,36)",
              "ticks": "outside"
             }
            },
            "marker": {
             "colorbar": {
              "outlinewidth": 1,
              "tickcolor": "rgb(36,36,36)",
              "ticks": "outside"
             }
            },
            "type": "scatter3d"
           }
          ],
          "scattercarpet": [
           {
            "marker": {
             "colorbar": {
              "outlinewidth": 1,
              "tickcolor": "rgb(36,36,36)",
              "ticks": "outside"
             }
            },
            "type": "scattercarpet"
           }
          ],
          "scattergeo": [
           {
            "marker": {
             "colorbar": {
              "outlinewidth": 1,
              "tickcolor": "rgb(36,36,36)",
              "ticks": "outside"
             }
            },
            "type": "scattergeo"
           }
          ],
          "scattergl": [
           {
            "marker": {
             "colorbar": {
              "outlinewidth": 1,
              "tickcolor": "rgb(36,36,36)",
              "ticks": "outside"
             }
            },
            "type": "scattergl"
           }
          ],
          "scattermapbox": [
           {
            "marker": {
             "colorbar": {
              "outlinewidth": 1,
              "tickcolor": "rgb(36,36,36)",
              "ticks": "outside"
             }
            },
            "type": "scattermapbox"
           }
          ],
          "scatterpolar": [
           {
            "marker": {
             "colorbar": {
              "outlinewidth": 1,
              "tickcolor": "rgb(36,36,36)",
              "ticks": "outside"
             }
            },
            "type": "scatterpolar"
           }
          ],
          "scatterpolargl": [
           {
            "marker": {
             "colorbar": {
              "outlinewidth": 1,
              "tickcolor": "rgb(36,36,36)",
              "ticks": "outside"
             }
            },
            "type": "scatterpolargl"
           }
          ],
          "scatterternary": [
           {
            "marker": {
             "colorbar": {
              "outlinewidth": 1,
              "tickcolor": "rgb(36,36,36)",
              "ticks": "outside"
             }
            },
            "type": "scatterternary"
           }
          ],
          "surface": [
           {
            "colorbar": {
             "outlinewidth": 1,
             "tickcolor": "rgb(36,36,36)",
             "ticks": "outside"
            },
            "colorscale": [
             [
              0,
              "#440154"
             ],
             [
              0.1111111111111111,
              "#482878"
             ],
             [
              0.2222222222222222,
              "#3e4989"
             ],
             [
              0.3333333333333333,
              "#31688e"
             ],
             [
              0.4444444444444444,
              "#26828e"
             ],
             [
              0.5555555555555556,
              "#1f9e89"
             ],
             [
              0.6666666666666666,
              "#35b779"
             ],
             [
              0.7777777777777778,
              "#6ece58"
             ],
             [
              0.8888888888888888,
              "#b5de2b"
             ],
             [
              1,
              "#fde725"
             ]
            ],
            "type": "surface"
           }
          ],
          "table": [
           {
            "cells": {
             "fill": {
              "color": "rgb(237,237,237)"
             },
             "line": {
              "color": "white"
             }
            },
            "header": {
             "fill": {
              "color": "rgb(217,217,217)"
             },
             "line": {
              "color": "white"
             }
            },
            "type": "table"
           }
          ]
         },
         "layout": {
          "annotationdefaults": {
           "arrowhead": 0,
           "arrowwidth": 1
          },
          "autotypenumbers": "strict",
          "coloraxis": {
           "colorbar": {
            "outlinewidth": 1,
            "tickcolor": "rgb(36,36,36)",
            "ticks": "outside"
           }
          },
          "colorscale": {
           "diverging": [
            [
             0,
             "rgb(103,0,31)"
            ],
            [
             0.1,
             "rgb(178,24,43)"
            ],
            [
             0.2,
             "rgb(214,96,77)"
            ],
            [
             0.3,
             "rgb(244,165,130)"
            ],
            [
             0.4,
             "rgb(253,219,199)"
            ],
            [
             0.5,
             "rgb(247,247,247)"
            ],
            [
             0.6,
             "rgb(209,229,240)"
            ],
            [
             0.7,
             "rgb(146,197,222)"
            ],
            [
             0.8,
             "rgb(67,147,195)"
            ],
            [
             0.9,
             "rgb(33,102,172)"
            ],
            [
             1,
             "rgb(5,48,97)"
            ]
           ],
           "sequential": [
            [
             0,
             "#440154"
            ],
            [
             0.1111111111111111,
             "#482878"
            ],
            [
             0.2222222222222222,
             "#3e4989"
            ],
            [
             0.3333333333333333,
             "#31688e"
            ],
            [
             0.4444444444444444,
             "#26828e"
            ],
            [
             0.5555555555555556,
             "#1f9e89"
            ],
            [
             0.6666666666666666,
             "#35b779"
            ],
            [
             0.7777777777777778,
             "#6ece58"
            ],
            [
             0.8888888888888888,
             "#b5de2b"
            ],
            [
             1,
             "#fde725"
            ]
           ],
           "sequentialminus": [
            [
             0,
             "#440154"
            ],
            [
             0.1111111111111111,
             "#482878"
            ],
            [
             0.2222222222222222,
             "#3e4989"
            ],
            [
             0.3333333333333333,
             "#31688e"
            ],
            [
             0.4444444444444444,
             "#26828e"
            ],
            [
             0.5555555555555556,
             "#1f9e89"
            ],
            [
             0.6666666666666666,
             "#35b779"
            ],
            [
             0.7777777777777778,
             "#6ece58"
            ],
            [
             0.8888888888888888,
             "#b5de2b"
            ],
            [
             1,
             "#fde725"
            ]
           ]
          },
          "colorway": [
           "#1F77B4",
           "#FF7F0E",
           "#2CA02C",
           "#D62728",
           "#9467BD",
           "#8C564B",
           "#E377C2",
           "#7F7F7F",
           "#BCBD22",
           "#17BECF"
          ],
          "font": {
           "color": "rgb(36,36,36)"
          },
          "geo": {
           "bgcolor": "white",
           "lakecolor": "white",
           "landcolor": "white",
           "showlakes": true,
           "showland": true,
           "subunitcolor": "white"
          },
          "hoverlabel": {
           "align": "left"
          },
          "hovermode": "closest",
          "mapbox": {
           "style": "light"
          },
          "paper_bgcolor": "white",
          "plot_bgcolor": "white",
          "polar": {
           "angularaxis": {
            "gridcolor": "rgb(232,232,232)",
            "linecolor": "rgb(36,36,36)",
            "showgrid": false,
            "showline": true,
            "ticks": "outside"
           },
           "bgcolor": "white",
           "radialaxis": {
            "gridcolor": "rgb(232,232,232)",
            "linecolor": "rgb(36,36,36)",
            "showgrid": false,
            "showline": true,
            "ticks": "outside"
           }
          },
          "scene": {
           "xaxis": {
            "backgroundcolor": "white",
            "gridcolor": "rgb(232,232,232)",
            "gridwidth": 2,
            "linecolor": "rgb(36,36,36)",
            "showbackground": true,
            "showgrid": false,
            "showline": true,
            "ticks": "outside",
            "zeroline": false,
            "zerolinecolor": "rgb(36,36,36)"
           },
           "yaxis": {
            "backgroundcolor": "white",
            "gridcolor": "rgb(232,232,232)",
            "gridwidth": 2,
            "linecolor": "rgb(36,36,36)",
            "showbackground": true,
            "showgrid": false,
            "showline": true,
            "ticks": "outside",
            "zeroline": false,
            "zerolinecolor": "rgb(36,36,36)"
           },
           "zaxis": {
            "backgroundcolor": "white",
            "gridcolor": "rgb(232,232,232)",
            "gridwidth": 2,
            "linecolor": "rgb(36,36,36)",
            "showbackground": true,
            "showgrid": false,
            "showline": true,
            "ticks": "outside",
            "zeroline": false,
            "zerolinecolor": "rgb(36,36,36)"
           }
          },
          "shapedefaults": {
           "fillcolor": "black",
           "line": {
            "width": 0
           },
           "opacity": 0.3
          },
          "ternary": {
           "aaxis": {
            "gridcolor": "rgb(232,232,232)",
            "linecolor": "rgb(36,36,36)",
            "showgrid": false,
            "showline": true,
            "ticks": "outside"
           },
           "baxis": {
            "gridcolor": "rgb(232,232,232)",
            "linecolor": "rgb(36,36,36)",
            "showgrid": false,
            "showline": true,
            "ticks": "outside"
           },
           "bgcolor": "white",
           "caxis": {
            "gridcolor": "rgb(232,232,232)",
            "linecolor": "rgb(36,36,36)",
            "showgrid": false,
            "showline": true,
            "ticks": "outside"
           }
          },
          "title": {
           "x": 0.05
          },
          "xaxis": {
           "automargin": true,
           "gridcolor": "rgb(232,232,232)",
           "linecolor": "rgb(36,36,36)",
           "showgrid": false,
           "showline": true,
           "ticks": "outside",
           "title": {
            "standoff": 15
           },
           "zeroline": false,
           "zerolinecolor": "rgb(36,36,36)"
          },
          "yaxis": {
           "automargin": true,
           "gridcolor": "rgb(232,232,232)",
           "linecolor": "rgb(36,36,36)",
           "showgrid": false,
           "showline": true,
           "ticks": "outside",
           "title": {
            "standoff": 15
           },
           "zeroline": false,
           "zerolinecolor": "rgb(36,36,36)"
          }
         }
        },
        "title": {
         "font": {
          "color": "Black",
          "size": 22
         },
         "text": "<b>Topics over Time</b>",
         "x": 0.4,
         "xanchor": "center",
         "y": 0.95,
         "yanchor": "top"
        },
        "width": 1250,
        "xaxis": {
         "showgrid": true
        },
        "yaxis": {
         "showgrid": true,
         "title": {
          "text": "Frequency"
         }
        }
       }
      }
     },
     "metadata": {},
     "output_type": "display_data"
    }
   ],
   "source": [
    "bert_model.visualize_topics_over_time(topics_over_time, top_n_topics=20)"
   ]
  },
  {
   "cell_type": "code",
   "execution_count": 24,
   "metadata": {},
   "outputs": [
    {
     "name": "stderr",
     "output_type": "stream",
     "text": [
      "12it [02:26, 12.20s/it]\n"
     ]
    }
   ],
   "source": [
    "data.reset_index(drop=True, inplace=True)\n",
    "topics_over_time = bert_model.topics_over_time(data['speech'], data['date'], nr_bins=12)"
   ]
  },
  {
   "cell_type": "code",
   "execution_count": 1,
   "metadata": {},
   "outputs": [
    {
     "name": "stderr",
     "output_type": "stream",
     "text": [
      "c:\\Users\\tanay\\AppData\\Local\\Programs\\Python\\Python311\\Lib\\site-packages\\tqdm\\auto.py:21: TqdmWarning: IProgress not found. Please update jupyter and ipywidgets. See https://ipywidgets.readthedocs.io/en/stable/user_install.html\n",
      "  from .autonotebook import tqdm as notebook_tqdm\n"
     ]
    }
   ],
   "source": [
    "import pickle\n",
    "# FOR FUTURE TO LOAD\n",
    "# Load the BERTopic model\n",
    "with open('bert_model.pkl', 'rb') as model_file:\n",
    "    loaded_bert_model = pickle.load(model_file)\n",
    "\n",
    "# Load the topics_over_time result\n",
    "with open('topics_over_time.pkl', 'rb') as topics_file:\n",
    "    loaded_topics_over_time = pickle.load(topics_file)"
   ]
  },
  {
   "cell_type": "code",
   "execution_count": 39,
   "metadata": {},
   "outputs": [
    {
     "data": {
      "text/plain": [
       "([1346, 62, 379, 449, 519],\n",
       " [0.3908963, 0.3604297, 0.35902733, 0.3588, 0.3348549])"
      ]
     },
     "execution_count": 39,
     "metadata": {},
     "output_type": "execute_result"
    }
   ],
   "source": [
    "wantET = loaded_bert_model.find_topics(search_term='pollution')\n",
    "wantET"
   ]
  },
  {
   "cell_type": "code",
   "execution_count": 38,
   "metadata": {},
   "outputs": [
    {
     "data": {
      "text/plain": [
       "[('liheap', 0.015207976516313013),\n",
       " ('heating', 0.010615511776768382),\n",
       " ('winter', 0.00983789981307507),\n",
       " ('heat', 0.006004608152990103),\n",
       " ('lowincome', 0.004165787083347811),\n",
       " ('assistance', 0.003985760317357853),\n",
       " ('warm', 0.003596089666172708),\n",
       " ('cool', 0.003393919982428345),\n",
       " ('funding', 0.003257120174924511),\n",
       " ('vermont', 0.0030733618114999355)]"
      ]
     },
     "execution_count": 38,
     "metadata": {},
     "output_type": "execute_result"
    }
   ],
   "source": [
    "loaded_bert_model.get_topic(185)"
   ]
  },
  {
   "cell_type": "code",
   "execution_count": 36,
   "metadata": {},
   "outputs": [
    {
     "data": {
      "application/vnd.plotly.v1+json": {
       "config": {
        "plotlyServerURL": "https://plot.ly"
       },
       "data": [
        {
         "hoverinfo": "text",
         "hovertext": [
          "<b>Topic 36</b><br>Words: buildings, px, energy, fuelproduced, kelley",
          "<b>Topic 36</b><br>Words: energy, 5351, renewable, venezuelan, incentives",
          "<b>Topic 36</b><br>Words: fossil, energy, chart, oil, curve",
          "<b>Topic 36</b><br>Words: buckhead, bulbs, pharmacies, energy, medications",
          "<b>Topic 36</b><br>Words: energy, carbon, independence, fuel, gas",
          "<b>Topic 36</b><br>Words: energy, coal, oil, majority, fuel",
          "<b>Topic 36</b><br>Words: bridge, energy, afraid, caribou, fossil",
          "<b>Topic 36</b><br>Words: energy, alloftheabove, comprehensive, drilling, oil",
          "<b>Topic 36</b><br>Words: energy, stored, dekalb, solutions, renewable"
         ],
         "marker": {
          "color": "#E69F00"
         },
         "mode": "lines",
         "name": "36_energy_oil_fossil_gas",
         "type": "scatter",
         "x": [
          "2008-01-02T15:24:28.800000",
          "2008-02-01T20:00:00",
          "2008-04-01T12:00:00",
          "2008-05-01T08:00:00",
          "2008-05-31T04:00:00",
          "2008-06-30T00:00:00",
          "2008-07-29T20:00:00",
          "2008-08-28T16:00:00",
          "2008-09-27T12:00:00"
         ],
         "y": [
          4,
          9,
          11,
          11,
          32,
          51,
          15,
          64,
          2
         ]
        },
        {
         "hoverinfo": "text",
         "hovertext": [
          "<b>Topic 45</b><br>Words: trail, wilderness, forest, park, scenic",
          "<b>Topic 45</b><br>Words: forest, muir, park, woods, forests",
          "<b>Topic 45</b><br>Words: shangri, la, hunting, bountiful, forest",
          "<b>Topic 45</b><br>Words: wilderness, park, lands, land, forest",
          "<b>Topic 45</b><br>Words: wilderness, park, trail, whiskey, forest",
          "<b>Topic 45</b><br>Words: wilderness, wild, scenic, caves, park",
          "<b>Topic 45</b><br>Words: trail, forest, park, briar, ski",
          "<b>Topic 45</b><br>Words: wolves, redwood, forest, park, wilderness",
          "<b>Topic 45</b><br>Words: rivers, scenic, susquehanna, river, wild",
          "<b>Topic 45</b><br>Words: gorge, nancy, scenic, nancys, gorges",
          "<b>Topic 45</b><br>Words: sumatra, forests, indonesia, felled, specids",
          "<b>Topic 45</b><br>Words: newland, elliot, landscaping, ellsworth, bangor"
         ],
         "marker": {
          "color": "#56B4E9"
         },
         "mode": "lines",
         "name": "45_wilderness_trail_forest_park",
         "type": "scatter",
         "x": [
          "2008-01-02T15:24:28.800000",
          "2008-02-01T20:00:00",
          "2008-03-02T16:00:00",
          "2008-04-01T12:00:00",
          "2008-05-01T08:00:00",
          "2008-05-31T04:00:00",
          "2008-06-30T00:00:00",
          "2008-07-29T20:00:00",
          "2008-08-28T16:00:00",
          "2008-09-27T12:00:00",
          "2008-10-27T08:00:00",
          "2008-11-26T04:00:00"
         ],
         "y": [
          28,
          12,
          4,
          69,
          9,
          20,
          14,
          4,
          18,
          1,
          1,
          1
         ]
        },
        {
         "hoverinfo": "text",
         "hovertext": [
          "<b>Topic 62</b><br>Words: ornl, ipcc, climate, ornls, nobel",
          "<b>Topic 62</b><br>Words: greenhouse, climate, warming, gases, prize",
          "<b>Topic 62</b><br>Words: climate, earth, greenhouse, warming, gases",
          "<b>Topic 62</b><br>Words: warming, global, climate, manmade, ice",
          "<b>Topic 62</b><br>Words: climate, warming, global, emissions, carbon",
          "<b>Topic 62</b><br>Words: climate, change, bali, developing, warming",
          "<b>Topic 62</b><br>Words: morgan, 526, problematic, fuels, climate",
          "<b>Topic 62</b><br>Words: elbows, alligators, draining, swamp, worrying",
          "<b>Topic 62</b><br>Words: nuclear, voinovich, waste, handle, recycling"
         ],
         "marker": {
          "color": "#009E73"
         },
         "mode": "lines",
         "name": "62_climate_warming_global_emissions",
         "type": "scatter",
         "x": [
          "2008-01-02T15:24:28.800000",
          "2008-02-01T20:00:00",
          "2008-04-01T12:00:00",
          "2008-05-01T08:00:00",
          "2008-05-31T04:00:00",
          "2008-06-30T00:00:00",
          "2008-07-29T20:00:00",
          "2008-08-28T16:00:00",
          "2008-09-27T12:00:00"
         ],
         "y": [
          1,
          3,
          21,
          9,
          110,
          4,
          2,
          1,
          1
         ]
        },
        {
         "hoverinfo": "text",
         "hovertext": [
          "<b>Topic 72</b><br>Words: equivalent, owner, substantially, 3807, financer",
          "<b>Topic 72</b><br>Words: renewable, solar, incentives, wind, credits",
          "<b>Topic 72</b><br>Words: propose, credit, tax, renewable, biodiesel",
          "<b>Topic 72</b><br>Words: wind, renewable, electricity, solar, ensigncantwell",
          "<b>Topic 72</b><br>Words: renewable, wind, solar, tax, credits",
          "<b>Topic 72</b><br>Words: renewable, wind, credits, diesel, solar",
          "<b>Topic 72</b><br>Words: renewable, efficiency, solar, energy, montpelier",
          "<b>Topic 72</b><br>Words: solar, renewable, wind, energy, coaltoliquids",
          "<b>Topic 72</b><br>Words: renewable, solar, wind, incentives, credits",
          "<b>Topic 72</b><br>Words: vehicles, renewable, ptc, plugin, crebs",
          "<b>Topic 72</b><br>Words: idaho, caucus, renewable, cochairing, efficiency"
         ],
         "marker": {
          "color": "#F0E442"
         },
         "mode": "lines",
         "name": "72_renewable_wind_solar_credits",
         "type": "scatter",
         "x": [
          "2008-01-02T15:24:28.800000",
          "2008-02-01T20:00:00",
          "2008-03-02T16:00:00",
          "2008-04-01T12:00:00",
          "2008-05-01T08:00:00",
          "2008-05-31T04:00:00",
          "2008-06-30T00:00:00",
          "2008-07-29T20:00:00",
          "2008-08-28T16:00:00",
          "2008-09-27T12:00:00",
          "2008-10-27T08:00:00"
         ],
         "y": [
          2,
          18,
          1,
          25,
          20,
          18,
          6,
          5,
          41,
          3,
          4
         ]
        },
        {
         "hoverinfo": "text",
         "hovertext": [
          "<b>Topic 131</b><br>Words: water, revolving, wastewater, texas, reuse",
          "<b>Topic 131</b><br>Words: water, project, margarita, recharge, groundwater",
          "<b>Topic 131</b><br>Words: water, toms, basin, orchard, e351",
          "<b>Topic 131</b><br>Words: water, pueblo, project, fryingpanarkansas, reclamation",
          "<b>Topic 131</b><br>Words: water, norco, harpool, resort, hpud",
          "<b>Topic 131</b><br>Words: water, overflows, sewage, orange, sewer",
          "<b>Topic 131</b><br>Words: crow, water, orfeo, nacwa, tribes",
          "<b>Topic 131</b><br>Words: water, aamodt, taos, pueblos, settlement",
          "<b>Topic 131</b><br>Words: water, mancos, reservoir, tribe, gulch",
          "<b>Topic 131</b><br>Words: complements, enhancement, walter, cosponsors, jones",
          "<b>Topic 131</b><br>Words: tce, cheyenne, water, wells, contaminating"
         ],
         "marker": {
          "color": "#D55E00"
         },
         "mode": "lines",
         "name": "131_water_overflows_sewage_sewer",
         "type": "scatter",
         "x": [
          "2008-01-02T15:24:28.800000",
          "2008-02-01T20:00:00",
          "2008-03-02T16:00:00",
          "2008-04-01T12:00:00",
          "2008-05-01T08:00:00",
          "2008-05-31T04:00:00",
          "2008-06-30T00:00:00",
          "2008-07-29T20:00:00",
          "2008-08-28T16:00:00",
          "2008-09-27T12:00:00",
          "2008-11-26T04:00:00"
         ],
         "y": [
          9,
          1,
          2,
          10,
          8,
          27,
          2,
          12,
          13,
          1,
          1
         ]
        },
        {
         "hoverinfo": "text",
         "hovertext": [
          "<b>Topic 379</b><br>Words: unsatisfied, someday, totally, coal, clean",
          "<b>Topic 379</b><br>Words: coal, coaltoliquid, electricity, crude, fuel",
          "<b>Topic 379</b><br>Words: coal, coaltoliquid, fuel, gasification, reserves",
          "<b>Topic 379</b><br>Words: coal, coaltoliquid, theyre, fuel, abundant",
          "<b>Topic 379</b><br>Words: coal, carbon, dioxide, liquid, fuel",
          "<b>Topic 379</b><br>Words: coal, wyoming, abundant, liquids, source",
          "<b>Topic 379</b><br>Words: coal, coaltoliquid, theres, critics, carbon"
         ],
         "marker": {
          "color": "#0072B2"
         },
         "mode": "lines",
         "name": "379_coal_coaltoliquid_carbon_fuel",
         "type": "scatter",
         "x": [
          "2008-02-01T20:00:00",
          "2008-04-01T12:00:00",
          "2008-05-01T08:00:00",
          "2008-05-31T04:00:00",
          "2008-06-30T00:00:00",
          "2008-07-29T20:00:00",
          "2008-08-28T16:00:00"
         ],
         "y": [
          1,
          4,
          3,
          5,
          17,
          7,
          4
         ]
        },
        {
         "hoverinfo": "text",
         "hovertext": [
          "<b>Topic 508</b><br>Words: repository, nuclear, yucca, waste, idaho",
          "<b>Topic 508</b><br>Words: nuclear, reactors, power, renaissance, 230",
          "<b>Topic 508</b><br>Words: intech, wise, nuclear, capacity, lithium",
          "<b>Topic 508</b><br>Words: nuclear, idaho, areva, power, waste",
          "<b>Topic 508</b><br>Words: nuclear, carbon, plants, coal, waste",
          "<b>Topic 508</b><br>Words: nuclear, power, antis, truths, electricity",
          "<b>Topic 508</b><br>Words: nuclear, powerplant, power, electricity, plant",
          "<b>Topic 508</b><br>Words: sony, recycle, recycling, electronics, nuclear",
          "<b>Topic 508</b><br>Words: thorium, nuclear, waste, nevadans, dump"
         ],
         "marker": {
          "color": "#CC79A7"
         },
         "mode": "lines",
         "name": "508_nuclear_repository_waste_sony",
         "type": "scatter",
         "x": [
          "2008-01-02T15:24:28.800000",
          "2008-02-01T20:00:00",
          "2008-04-01T12:00:00",
          "2008-05-01T08:00:00",
          "2008-05-31T04:00:00",
          "2008-06-30T00:00:00",
          "2008-07-29T20:00:00",
          "2008-08-28T16:00:00",
          "2008-09-27T12:00:00"
         ],
         "y": [
          2,
          1,
          1,
          3,
          10,
          5,
          6,
          3,
          2
         ]
        },
        {
         "hoverinfo": "text",
         "hovertext": [
          "<b>Topic 752</b><br>Words: alabama, dakota, alaska, senator, energy",
          "<b>Topic 752</b><br>Words: alaska, missouri, recognized, senator, energy",
          "<b>Topic 752</b><br>Words: mexico, recognized, senator, alaska, everybodys",
          "<b>Topic 752</b><br>Words: recognized, senator, utah, dakota, energy",
          "<b>Topic 752</b><br>Words: recognized, montana, mexico, louisiana, senator"
         ],
         "marker": {
          "color": "#E69F00"
         },
         "mode": "lines",
         "name": "752_recognized_senator_mexico_energy",
         "type": "scatter",
         "x": [
          "2008-04-01T12:00:00",
          "2008-05-31T04:00:00",
          "2008-06-30T00:00:00",
          "2008-07-29T20:00:00",
          "2008-08-28T16:00:00"
         ],
         "y": [
          3,
          2,
          10,
          5,
          3
         ]
        },
        {
         "hoverinfo": "text",
         "hovertext": [
          "<b>Topic 1166</b><br>Words: waverly, glenn, glenns, light, wind",
          "<b>Topic 1166</b><br>Words: wind, minnesota, stimulus, turbines, heating",
          "<b>Topic 1166</b><br>Words: wind, heb, turbines, farms, windtricity",
          "<b>Topic 1166</b><br>Words: wind, solar, turbines, weatherization, energy",
          "<b>Topic 1166</b><br>Words: bats, hog, wind, birds, nonetheless",
          "<b>Topic 1166</b><br>Words: colorado, shale, wind, fullscale, frenzied"
         ],
         "marker": {
          "color": "#56B4E9"
         },
         "mode": "lines",
         "name": "1166_wind_turbines_waverly_colorado",
         "type": "scatter",
         "x": [
          "2008-01-02T15:24:28.800000",
          "2008-02-01T20:00:00",
          "2008-04-01T12:00:00",
          "2008-05-01T08:00:00",
          "2008-05-31T04:00:00",
          "2008-06-30T00:00:00"
         ],
         "y": [
          1,
          3,
          3,
          4,
          2,
          1
         ]
        },
        {
         "hoverinfo": "text",
         "hovertext": [
          "<b>Topic 1346</b><br>Words: sanitation, water, whereas, drinking, waterborne",
          "<b>Topic 1346</b><br>Words: sanitation, water, drinking, benin, liter",
          "<b>Topic 1346</b><br>Words: sanitation, whereas, millennium, drinking, water",
          "<b>Topic 1346</b><br>Words: sanitation, drinking, water, millennium, access",
          "<b>Topic 1346</b><br>Words: drinking, chlorination, sanitation, water, waterborne"
         ],
         "marker": {
          "color": "#009E73"
         },
         "mode": "lines",
         "name": "1346_sanitation_water_drinking_millenniu...",
         "type": "scatter",
         "x": [
          "2008-03-02T16:00:00",
          "2008-04-01T12:00:00",
          "2008-05-01T08:00:00",
          "2008-05-31T04:00:00",
          "2008-09-27T12:00:00"
         ],
         "y": [
          2,
          2,
          1,
          5,
          1
         ]
        }
       ],
       "layout": {
        "height": 450,
        "hoverlabel": {
         "bgcolor": "white",
         "font": {
          "family": "Rockwell",
          "size": 16
         }
        },
        "legend": {
         "title": {
          "text": "<b>Global Topic Representation"
         }
        },
        "template": {
         "data": {
          "bar": [
           {
            "error_x": {
             "color": "rgb(36,36,36)"
            },
            "error_y": {
             "color": "rgb(36,36,36)"
            },
            "marker": {
             "line": {
              "color": "white",
              "width": 0.5
             },
             "pattern": {
              "fillmode": "overlay",
              "size": 10,
              "solidity": 0.2
             }
            },
            "type": "bar"
           }
          ],
          "barpolar": [
           {
            "marker": {
             "line": {
              "color": "white",
              "width": 0.5
             },
             "pattern": {
              "fillmode": "overlay",
              "size": 10,
              "solidity": 0.2
             }
            },
            "type": "barpolar"
           }
          ],
          "carpet": [
           {
            "aaxis": {
             "endlinecolor": "rgb(36,36,36)",
             "gridcolor": "white",
             "linecolor": "white",
             "minorgridcolor": "white",
             "startlinecolor": "rgb(36,36,36)"
            },
            "baxis": {
             "endlinecolor": "rgb(36,36,36)",
             "gridcolor": "white",
             "linecolor": "white",
             "minorgridcolor": "white",
             "startlinecolor": "rgb(36,36,36)"
            },
            "type": "carpet"
           }
          ],
          "choropleth": [
           {
            "colorbar": {
             "outlinewidth": 1,
             "tickcolor": "rgb(36,36,36)",
             "ticks": "outside"
            },
            "type": "choropleth"
           }
          ],
          "contour": [
           {
            "colorbar": {
             "outlinewidth": 1,
             "tickcolor": "rgb(36,36,36)",
             "ticks": "outside"
            },
            "colorscale": [
             [
              0,
              "#440154"
             ],
             [
              0.1111111111111111,
              "#482878"
             ],
             [
              0.2222222222222222,
              "#3e4989"
             ],
             [
              0.3333333333333333,
              "#31688e"
             ],
             [
              0.4444444444444444,
              "#26828e"
             ],
             [
              0.5555555555555556,
              "#1f9e89"
             ],
             [
              0.6666666666666666,
              "#35b779"
             ],
             [
              0.7777777777777778,
              "#6ece58"
             ],
             [
              0.8888888888888888,
              "#b5de2b"
             ],
             [
              1,
              "#fde725"
             ]
            ],
            "type": "contour"
           }
          ],
          "contourcarpet": [
           {
            "colorbar": {
             "outlinewidth": 1,
             "tickcolor": "rgb(36,36,36)",
             "ticks": "outside"
            },
            "type": "contourcarpet"
           }
          ],
          "heatmap": [
           {
            "colorbar": {
             "outlinewidth": 1,
             "tickcolor": "rgb(36,36,36)",
             "ticks": "outside"
            },
            "colorscale": [
             [
              0,
              "#440154"
             ],
             [
              0.1111111111111111,
              "#482878"
             ],
             [
              0.2222222222222222,
              "#3e4989"
             ],
             [
              0.3333333333333333,
              "#31688e"
             ],
             [
              0.4444444444444444,
              "#26828e"
             ],
             [
              0.5555555555555556,
              "#1f9e89"
             ],
             [
              0.6666666666666666,
              "#35b779"
             ],
             [
              0.7777777777777778,
              "#6ece58"
             ],
             [
              0.8888888888888888,
              "#b5de2b"
             ],
             [
              1,
              "#fde725"
             ]
            ],
            "type": "heatmap"
           }
          ],
          "heatmapgl": [
           {
            "colorbar": {
             "outlinewidth": 1,
             "tickcolor": "rgb(36,36,36)",
             "ticks": "outside"
            },
            "colorscale": [
             [
              0,
              "#440154"
             ],
             [
              0.1111111111111111,
              "#482878"
             ],
             [
              0.2222222222222222,
              "#3e4989"
             ],
             [
              0.3333333333333333,
              "#31688e"
             ],
             [
              0.4444444444444444,
              "#26828e"
             ],
             [
              0.5555555555555556,
              "#1f9e89"
             ],
             [
              0.6666666666666666,
              "#35b779"
             ],
             [
              0.7777777777777778,
              "#6ece58"
             ],
             [
              0.8888888888888888,
              "#b5de2b"
             ],
             [
              1,
              "#fde725"
             ]
            ],
            "type": "heatmapgl"
           }
          ],
          "histogram": [
           {
            "marker": {
             "line": {
              "color": "white",
              "width": 0.6
             }
            },
            "type": "histogram"
           }
          ],
          "histogram2d": [
           {
            "colorbar": {
             "outlinewidth": 1,
             "tickcolor": "rgb(36,36,36)",
             "ticks": "outside"
            },
            "colorscale": [
             [
              0,
              "#440154"
             ],
             [
              0.1111111111111111,
              "#482878"
             ],
             [
              0.2222222222222222,
              "#3e4989"
             ],
             [
              0.3333333333333333,
              "#31688e"
             ],
             [
              0.4444444444444444,
              "#26828e"
             ],
             [
              0.5555555555555556,
              "#1f9e89"
             ],
             [
              0.6666666666666666,
              "#35b779"
             ],
             [
              0.7777777777777778,
              "#6ece58"
             ],
             [
              0.8888888888888888,
              "#b5de2b"
             ],
             [
              1,
              "#fde725"
             ]
            ],
            "type": "histogram2d"
           }
          ],
          "histogram2dcontour": [
           {
            "colorbar": {
             "outlinewidth": 1,
             "tickcolor": "rgb(36,36,36)",
             "ticks": "outside"
            },
            "colorscale": [
             [
              0,
              "#440154"
             ],
             [
              0.1111111111111111,
              "#482878"
             ],
             [
              0.2222222222222222,
              "#3e4989"
             ],
             [
              0.3333333333333333,
              "#31688e"
             ],
             [
              0.4444444444444444,
              "#26828e"
             ],
             [
              0.5555555555555556,
              "#1f9e89"
             ],
             [
              0.6666666666666666,
              "#35b779"
             ],
             [
              0.7777777777777778,
              "#6ece58"
             ],
             [
              0.8888888888888888,
              "#b5de2b"
             ],
             [
              1,
              "#fde725"
             ]
            ],
            "type": "histogram2dcontour"
           }
          ],
          "mesh3d": [
           {
            "colorbar": {
             "outlinewidth": 1,
             "tickcolor": "rgb(36,36,36)",
             "ticks": "outside"
            },
            "type": "mesh3d"
           }
          ],
          "parcoords": [
           {
            "line": {
             "colorbar": {
              "outlinewidth": 1,
              "tickcolor": "rgb(36,36,36)",
              "ticks": "outside"
             }
            },
            "type": "parcoords"
           }
          ],
          "pie": [
           {
            "automargin": true,
            "type": "pie"
           }
          ],
          "scatter": [
           {
            "fillpattern": {
             "fillmode": "overlay",
             "size": 10,
             "solidity": 0.2
            },
            "type": "scatter"
           }
          ],
          "scatter3d": [
           {
            "line": {
             "colorbar": {
              "outlinewidth": 1,
              "tickcolor": "rgb(36,36,36)",
              "ticks": "outside"
             }
            },
            "marker": {
             "colorbar": {
              "outlinewidth": 1,
              "tickcolor": "rgb(36,36,36)",
              "ticks": "outside"
             }
            },
            "type": "scatter3d"
           }
          ],
          "scattercarpet": [
           {
            "marker": {
             "colorbar": {
              "outlinewidth": 1,
              "tickcolor": "rgb(36,36,36)",
              "ticks": "outside"
             }
            },
            "type": "scattercarpet"
           }
          ],
          "scattergeo": [
           {
            "marker": {
             "colorbar": {
              "outlinewidth": 1,
              "tickcolor": "rgb(36,36,36)",
              "ticks": "outside"
             }
            },
            "type": "scattergeo"
           }
          ],
          "scattergl": [
           {
            "marker": {
             "colorbar": {
              "outlinewidth": 1,
              "tickcolor": "rgb(36,36,36)",
              "ticks": "outside"
             }
            },
            "type": "scattergl"
           }
          ],
          "scattermapbox": [
           {
            "marker": {
             "colorbar": {
              "outlinewidth": 1,
              "tickcolor": "rgb(36,36,36)",
              "ticks": "outside"
             }
            },
            "type": "scattermapbox"
           }
          ],
          "scatterpolar": [
           {
            "marker": {
             "colorbar": {
              "outlinewidth": 1,
              "tickcolor": "rgb(36,36,36)",
              "ticks": "outside"
             }
            },
            "type": "scatterpolar"
           }
          ],
          "scatterpolargl": [
           {
            "marker": {
             "colorbar": {
              "outlinewidth": 1,
              "tickcolor": "rgb(36,36,36)",
              "ticks": "outside"
             }
            },
            "type": "scatterpolargl"
           }
          ],
          "scatterternary": [
           {
            "marker": {
             "colorbar": {
              "outlinewidth": 1,
              "tickcolor": "rgb(36,36,36)",
              "ticks": "outside"
             }
            },
            "type": "scatterternary"
           }
          ],
          "surface": [
           {
            "colorbar": {
             "outlinewidth": 1,
             "tickcolor": "rgb(36,36,36)",
             "ticks": "outside"
            },
            "colorscale": [
             [
              0,
              "#440154"
             ],
             [
              0.1111111111111111,
              "#482878"
             ],
             [
              0.2222222222222222,
              "#3e4989"
             ],
             [
              0.3333333333333333,
              "#31688e"
             ],
             [
              0.4444444444444444,
              "#26828e"
             ],
             [
              0.5555555555555556,
              "#1f9e89"
             ],
             [
              0.6666666666666666,
              "#35b779"
             ],
             [
              0.7777777777777778,
              "#6ece58"
             ],
             [
              0.8888888888888888,
              "#b5de2b"
             ],
             [
              1,
              "#fde725"
             ]
            ],
            "type": "surface"
           }
          ],
          "table": [
           {
            "cells": {
             "fill": {
              "color": "rgb(237,237,237)"
             },
             "line": {
              "color": "white"
             }
            },
            "header": {
             "fill": {
              "color": "rgb(217,217,217)"
             },
             "line": {
              "color": "white"
             }
            },
            "type": "table"
           }
          ]
         },
         "layout": {
          "annotationdefaults": {
           "arrowhead": 0,
           "arrowwidth": 1
          },
          "autotypenumbers": "strict",
          "coloraxis": {
           "colorbar": {
            "outlinewidth": 1,
            "tickcolor": "rgb(36,36,36)",
            "ticks": "outside"
           }
          },
          "colorscale": {
           "diverging": [
            [
             0,
             "rgb(103,0,31)"
            ],
            [
             0.1,
             "rgb(178,24,43)"
            ],
            [
             0.2,
             "rgb(214,96,77)"
            ],
            [
             0.3,
             "rgb(244,165,130)"
            ],
            [
             0.4,
             "rgb(253,219,199)"
            ],
            [
             0.5,
             "rgb(247,247,247)"
            ],
            [
             0.6,
             "rgb(209,229,240)"
            ],
            [
             0.7,
             "rgb(146,197,222)"
            ],
            [
             0.8,
             "rgb(67,147,195)"
            ],
            [
             0.9,
             "rgb(33,102,172)"
            ],
            [
             1,
             "rgb(5,48,97)"
            ]
           ],
           "sequential": [
            [
             0,
             "#440154"
            ],
            [
             0.1111111111111111,
             "#482878"
            ],
            [
             0.2222222222222222,
             "#3e4989"
            ],
            [
             0.3333333333333333,
             "#31688e"
            ],
            [
             0.4444444444444444,
             "#26828e"
            ],
            [
             0.5555555555555556,
             "#1f9e89"
            ],
            [
             0.6666666666666666,
             "#35b779"
            ],
            [
             0.7777777777777778,
             "#6ece58"
            ],
            [
             0.8888888888888888,
             "#b5de2b"
            ],
            [
             1,
             "#fde725"
            ]
           ],
           "sequentialminus": [
            [
             0,
             "#440154"
            ],
            [
             0.1111111111111111,
             "#482878"
            ],
            [
             0.2222222222222222,
             "#3e4989"
            ],
            [
             0.3333333333333333,
             "#31688e"
            ],
            [
             0.4444444444444444,
             "#26828e"
            ],
            [
             0.5555555555555556,
             "#1f9e89"
            ],
            [
             0.6666666666666666,
             "#35b779"
            ],
            [
             0.7777777777777778,
             "#6ece58"
            ],
            [
             0.8888888888888888,
             "#b5de2b"
            ],
            [
             1,
             "#fde725"
            ]
           ]
          },
          "colorway": [
           "#1F77B4",
           "#FF7F0E",
           "#2CA02C",
           "#D62728",
           "#9467BD",
           "#8C564B",
           "#E377C2",
           "#7F7F7F",
           "#BCBD22",
           "#17BECF"
          ],
          "font": {
           "color": "rgb(36,36,36)"
          },
          "geo": {
           "bgcolor": "white",
           "lakecolor": "white",
           "landcolor": "white",
           "showlakes": true,
           "showland": true,
           "subunitcolor": "white"
          },
          "hoverlabel": {
           "align": "left"
          },
          "hovermode": "closest",
          "mapbox": {
           "style": "light"
          },
          "paper_bgcolor": "white",
          "plot_bgcolor": "white",
          "polar": {
           "angularaxis": {
            "gridcolor": "rgb(232,232,232)",
            "linecolor": "rgb(36,36,36)",
            "showgrid": false,
            "showline": true,
            "ticks": "outside"
           },
           "bgcolor": "white",
           "radialaxis": {
            "gridcolor": "rgb(232,232,232)",
            "linecolor": "rgb(36,36,36)",
            "showgrid": false,
            "showline": true,
            "ticks": "outside"
           }
          },
          "scene": {
           "xaxis": {
            "backgroundcolor": "white",
            "gridcolor": "rgb(232,232,232)",
            "gridwidth": 2,
            "linecolor": "rgb(36,36,36)",
            "showbackground": true,
            "showgrid": false,
            "showline": true,
            "ticks": "outside",
            "zeroline": false,
            "zerolinecolor": "rgb(36,36,36)"
           },
           "yaxis": {
            "backgroundcolor": "white",
            "gridcolor": "rgb(232,232,232)",
            "gridwidth": 2,
            "linecolor": "rgb(36,36,36)",
            "showbackground": true,
            "showgrid": false,
            "showline": true,
            "ticks": "outside",
            "zeroline": false,
            "zerolinecolor": "rgb(36,36,36)"
           },
           "zaxis": {
            "backgroundcolor": "white",
            "gridcolor": "rgb(232,232,232)",
            "gridwidth": 2,
            "linecolor": "rgb(36,36,36)",
            "showbackground": true,
            "showgrid": false,
            "showline": true,
            "ticks": "outside",
            "zeroline": false,
            "zerolinecolor": "rgb(36,36,36)"
           }
          },
          "shapedefaults": {
           "fillcolor": "black",
           "line": {
            "width": 0
           },
           "opacity": 0.3
          },
          "ternary": {
           "aaxis": {
            "gridcolor": "rgb(232,232,232)",
            "linecolor": "rgb(36,36,36)",
            "showgrid": false,
            "showline": true,
            "ticks": "outside"
           },
           "baxis": {
            "gridcolor": "rgb(232,232,232)",
            "linecolor": "rgb(36,36,36)",
            "showgrid": false,
            "showline": true,
            "ticks": "outside"
           },
           "bgcolor": "white",
           "caxis": {
            "gridcolor": "rgb(232,232,232)",
            "linecolor": "rgb(36,36,36)",
            "showgrid": false,
            "showline": true,
            "ticks": "outside"
           }
          },
          "title": {
           "x": 0.05
          },
          "xaxis": {
           "automargin": true,
           "gridcolor": "rgb(232,232,232)",
           "linecolor": "rgb(36,36,36)",
           "showgrid": false,
           "showline": true,
           "ticks": "outside",
           "title": {
            "standoff": 15
           },
           "zeroline": false,
           "zerolinecolor": "rgb(36,36,36)"
          },
          "yaxis": {
           "automargin": true,
           "gridcolor": "rgb(232,232,232)",
           "linecolor": "rgb(36,36,36)",
           "showgrid": false,
           "showline": true,
           "ticks": "outside",
           "title": {
            "standoff": 15
           },
           "zeroline": false,
           "zerolinecolor": "rgb(36,36,36)"
          }
         }
        },
        "title": {
         "font": {
          "color": "Black",
          "size": 22
         },
         "text": "<b>Topics over Time</b>",
         "x": 0.4,
         "xanchor": "center",
         "y": 0.95,
         "yanchor": "top"
        },
        "width": 1250,
        "xaxis": {
         "showgrid": true
        },
        "yaxis": {
         "showgrid": true,
         "title": {
          "text": "Frequency"
         }
        }
       }
      }
     },
     "metadata": {},
     "output_type": "display_data"
    }
   ],
   "source": [
    "from bertopic import BERTopic\n",
    "# Subset your topics_over_time dataframe\n",
    "selected_topics_df = loaded_topics_over_time[loaded_topics_over_time.Topic.isin([752, 36,62,131,72,1166,379,508,1346,45])]\n",
    "\n",
    "# Visualize your selected topics\n",
    "loaded_bert_model.visualize_topics_over_time(selected_topics_df)"
   ]
  },
  {
   "cell_type": "markdown",
   "metadata": {},
   "source": [
    "#### stop-words or no?: BERTopic\n",
    "https://maartengr.github.io/BERTopic/getting_started/tips_and_tricks/tips_and_tricks.html#removing-stop-words\n",
    "https://github.com/MaartenGr/BERTopic/issues/40"
   ]
  }
 ],
 "metadata": {
  "kernelspec": {
   "display_name": "Python 3",
   "language": "python",
   "name": "python3"
  },
  "language_info": {
   "codemirror_mode": {
    "name": "ipython",
    "version": 3
   },
   "file_extension": ".py",
   "mimetype": "text/x-python",
   "name": "python",
   "nbconvert_exporter": "python",
   "pygments_lexer": "ipython3",
   "version": "3.11.1"
  }
 },
 "nbformat": 4,
 "nbformat_minor": 2
}
